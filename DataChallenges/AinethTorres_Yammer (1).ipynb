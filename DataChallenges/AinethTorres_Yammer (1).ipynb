{
 "cells": [
  {
   "cell_type": "markdown",
   "metadata": {},
   "source": [
    "# Yammer\n",
    "Aineth Torres Ruiz\n",
    "11/05/2020\n",
    "\n"
   ]
  },
  {
   "cell_type": "markdown",
   "metadata": {},
   "source": [
    "**Use case:**\n",
    "    - What's the cause of drop in user engagement or number of active users?\n",
    "    - What recommendations can be made to reduce customer churn by identifying potential churn candidates beforehand, the causes of their churn and take proactive actions to make them stay?"
   ]
  },
  {
   "cell_type": "markdown",
   "metadata": {},
   "source": [
    "**Findings:**\n",
    "It seems that location, language, create_user & enter_email are causing drop in engagement"
   ]
  },
  {
   "cell_type": "markdown",
   "metadata": {},
   "source": [
    "## Import key libraries"
   ]
  },
  {
   "cell_type": "code",
   "execution_count": 2,
   "metadata": {},
   "outputs": [],
   "source": [
    "# Packages imports\n",
    "import numpy as np\n",
    "import pandas as pd\n",
    "import scipy.stats as stats\n",
    "import statsmodels.stats.api as sms\n",
    "import matplotlib as mpl\n",
    "import matplotlib.pyplot as plt\n",
    "import seaborn as sns\n",
    "from math import ceil\n",
    "import warnings\n",
    "warnings.filterwarnings(\"ignore\")\n",
    "from pylab import rcParams\n",
    "%matplotlib inline"
   ]
  },
  {
   "cell_type": "markdown",
   "metadata": {},
   "source": [
    "# Part 1: Analyze users and events"
   ]
  },
  {
   "cell_type": "markdown",
   "metadata": {},
   "source": [
    "## Read data"
   ]
  },
  {
   "cell_type": "code",
   "execution_count": 7,
   "metadata": {},
   "outputs": [
    {
     "data": {
      "text/html": [
       "<div>\n",
       "<style scoped>\n",
       "    .dataframe tbody tr th:only-of-type {\n",
       "        vertical-align: middle;\n",
       "    }\n",
       "\n",
       "    .dataframe tbody tr th {\n",
       "        vertical-align: top;\n",
       "    }\n",
       "\n",
       "    .dataframe thead th {\n",
       "        text-align: right;\n",
       "    }\n",
       "</style>\n",
       "<table border=\"1\" class=\"dataframe\">\n",
       "  <thead>\n",
       "    <tr style=\"text-align: right;\">\n",
       "      <th></th>\n",
       "      <th>user_id</th>\n",
       "      <th>company_id</th>\n",
       "    </tr>\n",
       "  </thead>\n",
       "  <tbody>\n",
       "    <tr>\n",
       "      <th>count</th>\n",
       "      <td>19066.000000</td>\n",
       "      <td>19066.000000</td>\n",
       "    </tr>\n",
       "    <tr>\n",
       "      <th>mean</th>\n",
       "      <td>9532.500000</td>\n",
       "      <td>4602.923214</td>\n",
       "    </tr>\n",
       "    <tr>\n",
       "      <th>std</th>\n",
       "      <td>5504.024452</td>\n",
       "      <td>4363.468471</td>\n",
       "    </tr>\n",
       "    <tr>\n",
       "      <th>min</th>\n",
       "      <td>0.000000</td>\n",
       "      <td>1.000000</td>\n",
       "    </tr>\n",
       "    <tr>\n",
       "      <th>25%</th>\n",
       "      <td>4766.250000</td>\n",
       "      <td>109.000000</td>\n",
       "    </tr>\n",
       "    <tr>\n",
       "      <th>50%</th>\n",
       "      <td>9532.500000</td>\n",
       "      <td>3667.500000</td>\n",
       "    </tr>\n",
       "    <tr>\n",
       "      <th>75%</th>\n",
       "      <td>14298.750000</td>\n",
       "      <td>8431.750000</td>\n",
       "    </tr>\n",
       "    <tr>\n",
       "      <th>max</th>\n",
       "      <td>19065.000000</td>\n",
       "      <td>13198.000000</td>\n",
       "    </tr>\n",
       "  </tbody>\n",
       "</table>\n",
       "</div>"
      ],
      "text/plain": [
       "            user_id    company_id\n",
       "count  19066.000000  19066.000000\n",
       "mean    9532.500000   4602.923214\n",
       "std     5504.024452   4363.468471\n",
       "min        0.000000      1.000000\n",
       "25%     4766.250000    109.000000\n",
       "50%     9532.500000   3667.500000\n",
       "75%    14298.750000   8431.750000\n",
       "max    19065.000000  13198.000000"
      ]
     },
     "execution_count": 7,
     "metadata": {},
     "output_type": "execute_result"
    }
   ],
   "source": [
    "usersTable = 'https://raw.githubusercontent.com/Insight-DS-West/customerCliffDive/master/yammer_users.csv?token=ABFZSC3HBBWLXZUQBBYMWGS7WGJWU'\n",
    "users = pd.read_csv(usersTable, error_bad_lines=False)\n",
    "users.describe()"
   ]
  },
  {
   "cell_type": "code",
   "execution_count": 8,
   "metadata": {},
   "outputs": [
    {
     "name": "stdout",
     "output_type": "stream",
     "text": [
      "<class 'pandas.core.frame.DataFrame'>\n",
      "RangeIndex: 19066 entries, 0 to 19065\n",
      "Data columns (total 6 columns):\n",
      " #   Column        Non-Null Count  Dtype  \n",
      "---  ------        --------------  -----  \n",
      " 0   user_id       19066 non-null  float64\n",
      " 1   created_at    19066 non-null  object \n",
      " 2   company_id    19066 non-null  float64\n",
      " 3   language      19066 non-null  object \n",
      " 4   activated_at  9381 non-null   object \n",
      " 5   state         19066 non-null  object \n",
      "dtypes: float64(2), object(4)\n",
      "memory usage: 893.8+ KB\n"
     ]
    }
   ],
   "source": [
    "users.info()"
   ]
  },
  {
   "cell_type": "code",
   "execution_count": 9,
   "metadata": {},
   "outputs": [
    {
     "data": {
      "text/html": [
       "<div>\n",
       "<style scoped>\n",
       "    .dataframe tbody tr th:only-of-type {\n",
       "        vertical-align: middle;\n",
       "    }\n",
       "\n",
       "    .dataframe tbody tr th {\n",
       "        vertical-align: top;\n",
       "    }\n",
       "\n",
       "    .dataframe thead th {\n",
       "        text-align: right;\n",
       "    }\n",
       "</style>\n",
       "<table border=\"1\" class=\"dataframe\">\n",
       "  <thead>\n",
       "    <tr style=\"text-align: right;\">\n",
       "      <th></th>\n",
       "      <th>Unnamed: 0</th>\n",
       "      <th>user_id</th>\n",
       "      <th>user_type</th>\n",
       "    </tr>\n",
       "  </thead>\n",
       "  <tbody>\n",
       "    <tr>\n",
       "      <th>count</th>\n",
       "      <td>170416.000000</td>\n",
       "      <td>170416.000000</td>\n",
       "      <td>154839.000000</td>\n",
       "    </tr>\n",
       "    <tr>\n",
       "      <th>mean</th>\n",
       "      <td>85207.500000</td>\n",
       "      <td>7165.336782</td>\n",
       "      <td>1.471464</td>\n",
       "    </tr>\n",
       "    <tr>\n",
       "      <th>std</th>\n",
       "      <td>49195.006074</td>\n",
       "      <td>5828.375747</td>\n",
       "      <td>0.734746</td>\n",
       "    </tr>\n",
       "    <tr>\n",
       "      <th>min</th>\n",
       "      <td>0.000000</td>\n",
       "      <td>4.000000</td>\n",
       "      <td>1.000000</td>\n",
       "    </tr>\n",
       "    <tr>\n",
       "      <th>25%</th>\n",
       "      <td>42603.750000</td>\n",
       "      <td>2458.000000</td>\n",
       "      <td>1.000000</td>\n",
       "    </tr>\n",
       "    <tr>\n",
       "      <th>50%</th>\n",
       "      <td>85207.500000</td>\n",
       "      <td>5224.000000</td>\n",
       "      <td>1.000000</td>\n",
       "    </tr>\n",
       "    <tr>\n",
       "      <th>75%</th>\n",
       "      <td>127811.250000</td>\n",
       "      <td>13022.000000</td>\n",
       "      <td>2.000000</td>\n",
       "    </tr>\n",
       "    <tr>\n",
       "      <th>max</th>\n",
       "      <td>170415.000000</td>\n",
       "      <td>19065.000000</td>\n",
       "      <td>3.000000</td>\n",
       "    </tr>\n",
       "  </tbody>\n",
       "</table>\n",
       "</div>"
      ],
      "text/plain": [
       "          Unnamed: 0        user_id      user_type\n",
       "count  170416.000000  170416.000000  154839.000000\n",
       "mean    85207.500000    7165.336782       1.471464\n",
       "std     49195.006074    5828.375747       0.734746\n",
       "min         0.000000       4.000000       1.000000\n",
       "25%     42603.750000    2458.000000       1.000000\n",
       "50%     85207.500000    5224.000000       1.000000\n",
       "75%    127811.250000   13022.000000       2.000000\n",
       "max    170415.000000   19065.000000       3.000000"
      ]
     },
     "execution_count": 9,
     "metadata": {},
     "output_type": "execute_result"
    }
   ],
   "source": [
    "eventsTable1 = 'https://raw.githubusercontent.com/Insight-DS-West/customerCliffDive/master/yammer_events_1.csv?token=ABFZSC37AJBBOB2TASQ4YBC7WGJ4W'\n",
    "events1 = pd.read_csv(eventsTable1, error_bad_lines=False)\n",
    "events1.describe()"
   ]
  },
  {
   "cell_type": "code",
   "execution_count": null,
   "metadata": {},
   "outputs": [],
   "source": [
    "events1.info()"
   ]
  },
  {
   "cell_type": "code",
   "execution_count": null,
   "metadata": {},
   "outputs": [],
   "source": [
    "events1.occurred_at.max()\n",
    "# May 1st, 2014 --> Aug 31st, 2014"
   ]
  },
  {
   "cell_type": "code",
   "execution_count": 10,
   "metadata": {},
   "outputs": [
    {
     "data": {
      "text/html": [
       "<div>\n",
       "<style scoped>\n",
       "    .dataframe tbody tr th:only-of-type {\n",
       "        vertical-align: middle;\n",
       "    }\n",
       "\n",
       "    .dataframe tbody tr th {\n",
       "        vertical-align: top;\n",
       "    }\n",
       "\n",
       "    .dataframe thead th {\n",
       "        text-align: right;\n",
       "    }\n",
       "</style>\n",
       "<table border=\"1\" class=\"dataframe\">\n",
       "  <thead>\n",
       "    <tr style=\"text-align: right;\">\n",
       "      <th></th>\n",
       "      <th>Unnamed: 0</th>\n",
       "      <th>user_id</th>\n",
       "      <th>user_type</th>\n",
       "    </tr>\n",
       "  </thead>\n",
       "  <tbody>\n",
       "    <tr>\n",
       "      <th>count</th>\n",
       "      <td>170416.000000</td>\n",
       "      <td>170416.000000</td>\n",
       "      <td>170416.000000</td>\n",
       "    </tr>\n",
       "    <tr>\n",
       "      <th>mean</th>\n",
       "      <td>255623.500000</td>\n",
       "      <td>12802.334734</td>\n",
       "      <td>1.549285</td>\n",
       "    </tr>\n",
       "    <tr>\n",
       "      <th>std</th>\n",
       "      <td>49195.006074</td>\n",
       "      <td>2795.548777</td>\n",
       "      <td>0.770667</td>\n",
       "    </tr>\n",
       "    <tr>\n",
       "      <th>min</th>\n",
       "      <td>170416.000000</td>\n",
       "      <td>7754.000000</td>\n",
       "      <td>1.000000</td>\n",
       "    </tr>\n",
       "    <tr>\n",
       "      <th>25%</th>\n",
       "      <td>213019.750000</td>\n",
       "      <td>10563.000000</td>\n",
       "      <td>1.000000</td>\n",
       "    </tr>\n",
       "    <tr>\n",
       "      <th>50%</th>\n",
       "      <td>255623.500000</td>\n",
       "      <td>12744.000000</td>\n",
       "      <td>1.000000</td>\n",
       "    </tr>\n",
       "    <tr>\n",
       "      <th>75%</th>\n",
       "      <td>298227.250000</td>\n",
       "      <td>14994.000000</td>\n",
       "      <td>2.000000</td>\n",
       "    </tr>\n",
       "    <tr>\n",
       "      <th>max</th>\n",
       "      <td>340831.000000</td>\n",
       "      <td>18815.000000</td>\n",
       "      <td>3.000000</td>\n",
       "    </tr>\n",
       "  </tbody>\n",
       "</table>\n",
       "</div>"
      ],
      "text/plain": [
       "          Unnamed: 0        user_id      user_type\n",
       "count  170416.000000  170416.000000  170416.000000\n",
       "mean   255623.500000   12802.334734       1.549285\n",
       "std     49195.006074    2795.548777       0.770667\n",
       "min    170416.000000    7754.000000       1.000000\n",
       "25%    213019.750000   10563.000000       1.000000\n",
       "50%    255623.500000   12744.000000       1.000000\n",
       "75%    298227.250000   14994.000000       2.000000\n",
       "max    340831.000000   18815.000000       3.000000"
      ]
     },
     "execution_count": 10,
     "metadata": {},
     "output_type": "execute_result"
    }
   ],
   "source": [
    "eventsTable2 = 'https://raw.githubusercontent.com/Insight-DS-West/customerCliffDive/master/yammer_events_2.csv?token=ABFZSC3EU6W4BTNBHYLY6QC7WGJ7K'\n",
    "events2 = pd.read_csv(eventsTable2, error_bad_lines=False)\n",
    "events2.describe()"
   ]
  },
  {
   "cell_type": "code",
   "execution_count": null,
   "metadata": {},
   "outputs": [],
   "source": [
    "events2.occurred_at.min()\n",
    "# May 1st, 2014 --> Aug 31st, 2014"
   ]
  },
  {
   "cell_type": "code",
   "execution_count": 41,
   "metadata": {},
   "outputs": [
    {
     "name": "stdout",
     "output_type": "stream",
     "text": [
      "<class 'pandas.core.frame.DataFrame'>\n",
      "RangeIndex: 170416 entries, 0 to 170415\n",
      "Data columns (total 8 columns):\n",
      " #   Column       Non-Null Count   Dtype  \n",
      "---  ------       --------------   -----  \n",
      " 0   Unnamed: 0   170416 non-null  int64  \n",
      " 1   user_id      170416 non-null  float64\n",
      " 2   occurred_at  170416 non-null  object \n",
      " 3   event_type   170416 non-null  object \n",
      " 4   event_name   170416 non-null  object \n",
      " 5   location     170416 non-null  object \n",
      " 6   device       170416 non-null  object \n",
      " 7   user_type    170416 non-null  float64\n",
      "dtypes: float64(2), int64(1), object(5)\n",
      "memory usage: 10.4+ MB\n"
     ]
    }
   ],
   "source": [
    "events2.info()"
   ]
  },
  {
   "cell_type": "code",
   "execution_count": 44,
   "metadata": {},
   "outputs": [
    {
     "name": "stdout",
     "output_type": "stream",
     "text": [
      "<class 'pandas.core.frame.DataFrame'>\n",
      "RangeIndex: 681664 entries, 0 to 681663\n",
      "Data columns (total 8 columns):\n",
      " #   Column       Non-Null Count   Dtype  \n",
      "---  ------       --------------   -----  \n",
      " 0   Unnamed: 0   681664 non-null  int64  \n",
      " 1   user_id      681664 non-null  float64\n",
      " 2   occurred_at  681664 non-null  object \n",
      " 3   event_type   681664 non-null  object \n",
      " 4   event_name   681664 non-null  object \n",
      " 5   location     681664 non-null  object \n",
      " 6   device       681664 non-null  object \n",
      " 7   user_type    666087 non-null  object \n",
      "dtypes: float64(1), int64(1), object(6)\n",
      "memory usage: 41.6+ MB\n"
     ]
    }
   ],
   "source": [
    "#The two dfs seems equal let append them to create a single df\n",
    "events = events1.append(events2, ignore_index = True)\n",
    "events.info()"
   ]
  },
  {
   "cell_type": "markdown",
   "metadata": {},
   "source": [
    "##### Finding: It seems like events1 = events2, therefore, I will use only events1 from now on"
   ]
  },
  {
   "cell_type": "markdown",
   "metadata": {},
   "source": [
    "##### Fix data formats"
   ]
  },
  {
   "cell_type": "code",
   "execution_count": 46,
   "metadata": {},
   "outputs": [],
   "source": [
    "users['activated_at'] = pd.to_datetime(users['activated_at'])\n",
    "users['act_date'] = pd.to_datetime(users['activated_at']).dt.date\n",
    "users['created_at'] = pd.to_datetime(users['activated_at'])\n",
    "users['cr_date'] = pd.to_datetime(users['activated_at']).dt.date\n",
    "events['occurred_at'] = pd.to_datetime(events['occurred_at'])"
   ]
  },
  {
   "cell_type": "markdown",
   "metadata": {},
   "source": [
    "## Data cleansing and exploration"
   ]
  },
  {
   "cell_type": "markdown",
   "metadata": {},
   "source": [
    "### Explore users"
   ]
  },
  {
   "cell_type": "code",
   "execution_count": null,
   "metadata": {},
   "outputs": [],
   "source": [
    "users.head(10)"
   ]
  },
  {
   "cell_type": "code",
   "execution_count": 22,
   "metadata": {},
   "outputs": [
    {
     "data": {
      "text/plain": [
       "0"
      ]
     },
     "execution_count": 22,
     "metadata": {},
     "output_type": "execute_result"
    }
   ],
   "source": [
    "# Set to NaN, nan values (optional)\n",
    "users['act_date'] = users['act_date'].replace({'nan':'NaN'})\n",
    "# Count nulls in activation date - nonactive(pending) users\n",
    "users.act_date.isin(['NaN']).sum(axis=0)"
   ]
  },
  {
   "cell_type": "code",
   "execution_count": 13,
   "metadata": {},
   "outputs": [
    {
     "data": {
      "text/plain": [
       "state\n",
       "active     9381\n",
       "pending    9685\n",
       "Name: state, dtype: int64"
      ]
     },
     "execution_count": 13,
     "metadata": {},
     "output_type": "execute_result"
    }
   ],
   "source": [
    "# Count users by state value\n",
    "users.groupby(\"state\")['state'].count()"
   ]
  },
  {
   "cell_type": "code",
   "execution_count": 14,
   "metadata": {
    "scrolled": true
   },
   "outputs": [
    {
     "data": {
      "text/plain": [
       "<matplotlib.axes._subplots.AxesSubplot at 0x27a31232608>"
      ]
     },
     "execution_count": 14,
     "metadata": {},
     "output_type": "execute_result"
    },
    {
     "data": {
      "image/png": "[encoded data removed]",
      "text/plain": [
       "<Figure size 432x288 with 1 Axes>"
      ]
     },
     "metadata": {},
     "output_type": "display_data"
    }
   ],
   "source": [
    "churn = users.groupby(\"state\")['state'].count()\n",
    "churn\n",
    "churn.plot.pie(autopct=\"%.1f%%\")"
   ]
  },
  {
   "cell_type": "code",
   "execution_count": 24,
   "metadata": {},
   "outputs": [],
   "source": [
    "\n",
    "# NAN for testdf\n",
    "nancolumns = ['act_date','state', 'cr_date']\n",
    "for col in nancolumns:\n",
    "    users[col].fillna('nan', inplace = True)"
   ]
  },
  {
   "cell_type": "code",
   "execution_count": null,
   "metadata": {},
   "outputs": [],
   "source": []
  },
  {
   "cell_type": "code",
   "execution_count": null,
   "metadata": {},
   "outputs": [],
   "source": [
    "(users\n",
    " .groupby(['date', 'state'])\n",
    " .size()\n",
    " .unstack()\n",
    " .plot.bar()\n",
    ")"
   ]
  },
  {
   "cell_type": "code",
   "execution_count": null,
   "metadata": {},
   "outputs": [],
   "source": [
    "rs = np.random.RandomState(365)\n",
    "values = users['state'] == 'active'\n",
    "dates = users['activated_at'].dt.month()\n",
    "#pd.date_range(users['activated_at'])\n",
    "data = pd.DataFrame(values, dates)\n",
    "#data = data.rolling(7).mean()\n",
    "\n",
    "sns.lineplot(data=data, palette=\"tab10\", linewidth=2.5)"
   ]
  },
  {
   "cell_type": "markdown",
   "metadata": {},
   "source": [
    "### Explore events"
   ]
  },
  {
   "cell_type": "code",
   "execution_count": null,
   "metadata": {},
   "outputs": [],
   "source": [
    "events.head()\n",
    "### Four categorical, one date,"
   ]
  },
  {
   "cell_type": "code",
   "execution_count": 33,
   "metadata": {},
   "outputs": [
    {
     "data": {
      "text/plain": [
       "<seaborn.axisgrid.FacetGrid at 0x27a318d4e48>"
      ]
     },
     "execution_count": 33,
     "metadata": {},
     "output_type": "execute_result"
    },
    {
     "data": {
      "image/png": "[encoded data removed]",
      "text/plain": [
       "<Figure size 360x360 with 1 Axes>"
      ]
     },
     "metadata": {
      "needs_background": "light"
     },
     "output_type": "display_data"
    }
   ],
   "source": [
    "# How many types of events\n",
    "sns.catplot(x='event_type', kind='count', data = events)"
   ]
  },
  {
   "cell_type": "code",
   "execution_count": 57,
   "metadata": {},
   "outputs": [
    {
     "data": {
      "text/plain": [
       "engagement     0.97175\n",
       "signup_flow    0.02825\n",
       "Name: event_type, dtype: float64"
      ]
     },
     "execution_count": 57,
     "metadata": {},
     "output_type": "execute_result"
    }
   ],
   "source": [
    "# Top events by type and users (%)\n",
    "events['event_type'].value_counts(normalize=True).sort_values(ascending=False).head()"
   ]
  },
  {
   "cell_type": "markdown",
   "metadata": {},
   "source": [
    "##### Event Names"
   ]
  },
  {
   "cell_type": "code",
   "execution_count": 35,
   "metadata": {},
   "outputs": [
    {
     "data": {
      "image/png": "[encoded data removed]",
      "text/plain": [
       "<Figure size 360x360 with 1 Axes>"
      ]
     },
     "metadata": {
      "needs_background": "light"
     },
     "output_type": "display_data"
    }
   ],
   "source": [
    "# How many types of events\n",
    "g=sns.catplot(y='event_name', kind='count', color='b', data = events)\n",
    "#g.set_xticklabels(rotation=30)"
   ]
  },
  {
   "cell_type": "code",
   "execution_count": 37,
   "metadata": {},
   "outputs": [
    {
     "data": {
      "text/plain": [
       "21"
      ]
     },
     "execution_count": 37,
     "metadata": {},
     "output_type": "execute_result"
    }
   ],
   "source": [
    "len(events['event_name'].unique())"
   ]
  },
  {
   "cell_type": "code",
   "execution_count": 31,
   "metadata": {},
   "outputs": [
    {
     "data": {
      "text/plain": [
       "home_page       0.261325\n",
       "like_message    0.165430\n",
       "view_inbox      0.155367\n",
       "login           0.103952\n",
       "send_message    0.092327\n",
       "Name: event_name, dtype: float64"
      ]
     },
     "execution_count": 31,
     "metadata": {},
     "output_type": "execute_result"
    }
   ],
   "source": [
    "# Top events by users (%)\n",
    "events['event_name'].value_counts(normalize=True).sort_values(ascending=False).head()"
   ]
  },
  {
   "cell_type": "markdown",
   "metadata": {},
   "source": [
    "##### Locations"
   ]
  },
  {
   "cell_type": "code",
   "execution_count": 38,
   "metadata": {},
   "outputs": [
    {
     "data": {
      "text/plain": [
       "47"
      ]
     },
     "execution_count": 38,
     "metadata": {},
     "output_type": "execute_result"
    }
   ],
   "source": [
    "#How many type of locations\n",
    "len(events['location'].unique())"
   ]
  },
  {
   "cell_type": "code",
   "execution_count": 30,
   "metadata": {},
   "outputs": [
    {
     "data": {
      "text/plain": [
       "United States     0.280308\n",
       "Japan             0.077945\n",
       "Germany           0.065000\n",
       "France            0.052736\n",
       "United Kingdom    0.047548\n",
       "Name: location, dtype: float64"
      ]
     },
     "execution_count": 30,
     "metadata": {},
     "output_type": "execute_result"
    }
   ],
   "source": [
    "# Top locations by users (%)\n",
    "events['location'].value_counts(normalize=True).sort_values(ascending=False).head()"
   ]
  },
  {
   "cell_type": "code",
   "execution_count": 39,
   "metadata": {},
   "outputs": [
    {
     "data": {
      "image/png": "[encoded data removed]",
      "text/plain": [
       "<Figure size 360x360 with 1 Axes>"
      ]
     },
     "metadata": {
      "needs_background": "light"
     },
     "output_type": "display_data"
    }
   ],
   "source": [
    "g=sns.catplot(y='location', kind='count', data=events)"
   ]
  },
  {
   "cell_type": "markdown",
   "metadata": {},
   "source": [
    "##### Devices"
   ]
  },
  {
   "cell_type": "code",
   "execution_count": 40,
   "metadata": {},
   "outputs": [
    {
     "data": {
      "text/plain": [
       "26"
      ]
     },
     "execution_count": 40,
     "metadata": {},
     "output_type": "execute_result"
    }
   ],
   "source": [
    "# How many devices\n",
    "len(events['device'].unique())"
   ]
  },
  {
   "cell_type": "code",
   "execution_count": 32,
   "metadata": {},
   "outputs": [
    {
     "data": {
      "text/plain": [
       "macbook pro               0.176720\n",
       "lenovo thinkpad           0.113346\n",
       "macbook air               0.086524\n",
       "iphone 5                  0.075809\n",
       "dell inspiron notebook    0.057806\n",
       "Name: device, dtype: float64"
      ]
     },
     "execution_count": 32,
     "metadata": {},
     "output_type": "execute_result"
    }
   ],
   "source": [
    "# Top devices by users (%)\n",
    "events['device'].value_counts(normalize=True).sort_values(ascending=False).head()"
   ]
  },
  {
   "cell_type": "code",
   "execution_count": 26,
   "metadata": {},
   "outputs": [
    {
     "data": {
      "text/plain": [
       "count    154839.000000\n",
       "mean          1.471464\n",
       "std           0.734746\n",
       "min           1.000000\n",
       "25%           1.000000\n",
       "50%           1.000000\n",
       "75%           2.000000\n",
       "max           3.000000\n",
       "Name: user_type, dtype: float64"
      ]
     },
     "execution_count": 26,
     "metadata": {},
     "output_type": "execute_result"
    }
   ],
   "source": [
    "events.user_type.describe()"
   ]
  },
  {
   "cell_type": "markdown",
   "metadata": {},
   "source": [
    "##### Users"
   ]
  },
  {
   "cell_type": "code",
   "execution_count": 27,
   "metadata": {},
   "outputs": [],
   "source": [
    "user_type_dict = {\n",
    "    1.0: 'User_1',\n",
    "    2.0: 'User_2',\n",
    "    3.0: 'User_3',\n",
    "}"
   ]
  },
  {
   "cell_type": "code",
   "execution_count": 28,
   "metadata": {},
   "outputs": [
    {
     "data": {
      "text/plain": [
       "0    User_3\n",
       "1    User_3\n",
       "2    User_3\n",
       "3    User_3\n",
       "4    User_3\n",
       "Name: user_type, dtype: object"
      ]
     },
     "execution_count": 28,
     "metadata": {},
     "output_type": "execute_result"
    }
   ],
   "source": [
    "events['user_type'] = events1['user_type'].map(user_type_dict)\n",
    "events['user_type'].head()"
   ]
  },
  {
   "cell_type": "code",
   "execution_count": 29,
   "metadata": {},
   "outputs": [
    {
     "data": {
      "text/plain": [
       "User_1    0.673868\n",
       "User_2    0.180801\n",
       "User_3    0.145332\n",
       "Name: user_type, dtype: float64"
      ]
     },
     "execution_count": 29,
     "metadata": {},
     "output_type": "execute_result"
    }
   ],
   "source": [
    "events['user_type'].value_counts(normalize=True)"
   ]
  },
  {
   "cell_type": "markdown",
   "metadata": {},
   "source": [
    "##### Time series"
   ]
  },
  {
   "cell_type": "code",
   "execution_count": 50,
   "metadata": {},
   "outputs": [
    {
     "data": {
      "text/html": [
       "<div>\n",
       "<style scoped>\n",
       "    .dataframe tbody tr th:only-of-type {\n",
       "        vertical-align: middle;\n",
       "    }\n",
       "\n",
       "    .dataframe tbody tr th {\n",
       "        vertical-align: top;\n",
       "    }\n",
       "\n",
       "    .dataframe thead th {\n",
       "        text-align: right;\n",
       "    }\n",
       "</style>\n",
       "<table border=\"1\" class=\"dataframe\">\n",
       "  <thead>\n",
       "    <tr style=\"text-align: right;\">\n",
       "      <th></th>\n",
       "      <th>week_number</th>\n",
       "      <th>Unnamed: 0</th>\n",
       "      <th>user_id</th>\n",
       "      <th>occurred_at</th>\n",
       "      <th>event_type</th>\n",
       "      <th>event_name</th>\n",
       "      <th>location</th>\n",
       "      <th>device</th>\n",
       "      <th>user_type</th>\n",
       "    </tr>\n",
       "  </thead>\n",
       "  <tbody>\n",
       "    <tr>\n",
       "      <th>0</th>\n",
       "      <td>18</td>\n",
       "      <td>17419</td>\n",
       "      <td>17419</td>\n",
       "      <td>17419</td>\n",
       "      <td>17419</td>\n",
       "      <td>17419</td>\n",
       "      <td>17419</td>\n",
       "      <td>17419</td>\n",
       "      <td>17060</td>\n",
       "    </tr>\n",
       "    <tr>\n",
       "      <th>1</th>\n",
       "      <td>19</td>\n",
       "      <td>35272</td>\n",
       "      <td>35272</td>\n",
       "      <td>35272</td>\n",
       "      <td>35272</td>\n",
       "      <td>35272</td>\n",
       "      <td>35272</td>\n",
       "      <td>35272</td>\n",
       "      <td>34548</td>\n",
       "    </tr>\n",
       "    <tr>\n",
       "      <th>2</th>\n",
       "      <td>20</td>\n",
       "      <td>33395</td>\n",
       "      <td>33395</td>\n",
       "      <td>33395</td>\n",
       "      <td>33395</td>\n",
       "      <td>33395</td>\n",
       "      <td>33395</td>\n",
       "      <td>33395</td>\n",
       "      <td>32621</td>\n",
       "    </tr>\n",
       "    <tr>\n",
       "      <th>3</th>\n",
       "      <td>21</td>\n",
       "      <td>35709</td>\n",
       "      <td>35709</td>\n",
       "      <td>35709</td>\n",
       "      <td>35709</td>\n",
       "      <td>35709</td>\n",
       "      <td>35709</td>\n",
       "      <td>35709</td>\n",
       "      <td>34931</td>\n",
       "    </tr>\n",
       "    <tr>\n",
       "      <th>4</th>\n",
       "      <td>22</td>\n",
       "      <td>34681</td>\n",
       "      <td>34681</td>\n",
       "      <td>34681</td>\n",
       "      <td>34681</td>\n",
       "      <td>34681</td>\n",
       "      <td>34681</td>\n",
       "      <td>34681</td>\n",
       "      <td>33889</td>\n",
       "    </tr>\n",
       "    <tr>\n",
       "      <th>5</th>\n",
       "      <td>23</td>\n",
       "      <td>37807</td>\n",
       "      <td>37807</td>\n",
       "      <td>37807</td>\n",
       "      <td>37807</td>\n",
       "      <td>37807</td>\n",
       "      <td>37807</td>\n",
       "      <td>37807</td>\n",
       "      <td>36961</td>\n",
       "    </tr>\n",
       "    <tr>\n",
       "      <th>6</th>\n",
       "      <td>24</td>\n",
       "      <td>37444</td>\n",
       "      <td>37444</td>\n",
       "      <td>37444</td>\n",
       "      <td>37444</td>\n",
       "      <td>37444</td>\n",
       "      <td>37444</td>\n",
       "      <td>37444</td>\n",
       "      <td>36569</td>\n",
       "    </tr>\n",
       "    <tr>\n",
       "      <th>7</th>\n",
       "      <td>25</td>\n",
       "      <td>38918</td>\n",
       "      <td>38918</td>\n",
       "      <td>38918</td>\n",
       "      <td>38918</td>\n",
       "      <td>38918</td>\n",
       "      <td>38918</td>\n",
       "      <td>38918</td>\n",
       "      <td>38004</td>\n",
       "    </tr>\n",
       "    <tr>\n",
       "      <th>8</th>\n",
       "      <td>26</td>\n",
       "      <td>39914</td>\n",
       "      <td>39914</td>\n",
       "      <td>39914</td>\n",
       "      <td>39914</td>\n",
       "      <td>39914</td>\n",
       "      <td>39914</td>\n",
       "      <td>39914</td>\n",
       "      <td>39043</td>\n",
       "    </tr>\n",
       "    <tr>\n",
       "      <th>9</th>\n",
       "      <td>27</td>\n",
       "      <td>39548</td>\n",
       "      <td>39548</td>\n",
       "      <td>39548</td>\n",
       "      <td>39548</td>\n",
       "      <td>39548</td>\n",
       "      <td>39548</td>\n",
       "      <td>39548</td>\n",
       "      <td>38690</td>\n",
       "    </tr>\n",
       "    <tr>\n",
       "      <th>10</th>\n",
       "      <td>28</td>\n",
       "      <td>43208</td>\n",
       "      <td>43208</td>\n",
       "      <td>43208</td>\n",
       "      <td>43208</td>\n",
       "      <td>43208</td>\n",
       "      <td>43208</td>\n",
       "      <td>43208</td>\n",
       "      <td>42284</td>\n",
       "    </tr>\n",
       "    <tr>\n",
       "      <th>11</th>\n",
       "      <td>29</td>\n",
       "      <td>45071</td>\n",
       "      <td>45071</td>\n",
       "      <td>45071</td>\n",
       "      <td>45071</td>\n",
       "      <td>45071</td>\n",
       "      <td>45071</td>\n",
       "      <td>45071</td>\n",
       "      <td>44156</td>\n",
       "    </tr>\n",
       "    <tr>\n",
       "      <th>12</th>\n",
       "      <td>30</td>\n",
       "      <td>44442</td>\n",
       "      <td>44442</td>\n",
       "      <td>44442</td>\n",
       "      <td>44442</td>\n",
       "      <td>44442</td>\n",
       "      <td>44442</td>\n",
       "      <td>44442</td>\n",
       "      <td>43478</td>\n",
       "    </tr>\n",
       "    <tr>\n",
       "      <th>13</th>\n",
       "      <td>31</td>\n",
       "      <td>47084</td>\n",
       "      <td>47084</td>\n",
       "      <td>47084</td>\n",
       "      <td>47084</td>\n",
       "      <td>47084</td>\n",
       "      <td>47084</td>\n",
       "      <td>47084</td>\n",
       "      <td>46090</td>\n",
       "    </tr>\n",
       "    <tr>\n",
       "      <th>14</th>\n",
       "      <td>32</td>\n",
       "      <td>41044</td>\n",
       "      <td>41044</td>\n",
       "      <td>41044</td>\n",
       "      <td>41044</td>\n",
       "      <td>41044</td>\n",
       "      <td>41044</td>\n",
       "      <td>41044</td>\n",
       "      <td>40216</td>\n",
       "    </tr>\n",
       "    <tr>\n",
       "      <th>15</th>\n",
       "      <td>33</td>\n",
       "      <td>37568</td>\n",
       "      <td>37568</td>\n",
       "      <td>37568</td>\n",
       "      <td>37568</td>\n",
       "      <td>37568</td>\n",
       "      <td>37568</td>\n",
       "      <td>37568</td>\n",
       "      <td>36548</td>\n",
       "    </tr>\n",
       "    <tr>\n",
       "      <th>16</th>\n",
       "      <td>34</td>\n",
       "      <td>36400</td>\n",
       "      <td>36400</td>\n",
       "      <td>36400</td>\n",
       "      <td>36400</td>\n",
       "      <td>36400</td>\n",
       "      <td>36400</td>\n",
       "      <td>36400</td>\n",
       "      <td>35369</td>\n",
       "    </tr>\n",
       "    <tr>\n",
       "      <th>17</th>\n",
       "      <td>35</td>\n",
       "      <td>36740</td>\n",
       "      <td>36740</td>\n",
       "      <td>36740</td>\n",
       "      <td>36740</td>\n",
       "      <td>36740</td>\n",
       "      <td>36740</td>\n",
       "      <td>36740</td>\n",
       "      <td>35630</td>\n",
       "    </tr>\n",
       "  </tbody>\n",
       "</table>\n",
       "</div>"
      ],
      "text/plain": [
       "    week_number  Unnamed: 0  user_id  occurred_at  event_type  event_name  \\\n",
       "0            18       17419    17419        17419       17419       17419   \n",
       "1            19       35272    35272        35272       35272       35272   \n",
       "2            20       33395    33395        33395       33395       33395   \n",
       "3            21       35709    35709        35709       35709       35709   \n",
       "4            22       34681    34681        34681       34681       34681   \n",
       "5            23       37807    37807        37807       37807       37807   \n",
       "6            24       37444    37444        37444       37444       37444   \n",
       "7            25       38918    38918        38918       38918       38918   \n",
       "8            26       39914    39914        39914       39914       39914   \n",
       "9            27       39548    39548        39548       39548       39548   \n",
       "10           28       43208    43208        43208       43208       43208   \n",
       "11           29       45071    45071        45071       45071       45071   \n",
       "12           30       44442    44442        44442       44442       44442   \n",
       "13           31       47084    47084        47084       47084       47084   \n",
       "14           32       41044    41044        41044       41044       41044   \n",
       "15           33       37568    37568        37568       37568       37568   \n",
       "16           34       36400    36400        36400       36400       36400   \n",
       "17           35       36740    36740        36740       36740       36740   \n",
       "\n",
       "    location  device  user_type  \n",
       "0      17419   17419      17060  \n",
       "1      35272   35272      34548  \n",
       "2      33395   33395      32621  \n",
       "3      35709   35709      34931  \n",
       "4      34681   34681      33889  \n",
       "5      37807   37807      36961  \n",
       "6      37444   37444      36569  \n",
       "7      38918   38918      38004  \n",
       "8      39914   39914      39043  \n",
       "9      39548   39548      38690  \n",
       "10     43208   43208      42284  \n",
       "11     45071   45071      44156  \n",
       "12     44442   44442      43478  \n",
       "13     47084   47084      46090  \n",
       "14     41044   41044      40216  \n",
       "15     37568   37568      36548  \n",
       "16     36400   36400      35369  \n",
       "17     36740   36740      35630  "
      ]
     },
     "execution_count": 50,
     "metadata": {},
     "output_type": "execute_result"
    }
   ],
   "source": [
    "#Add the week number into events table\n",
    "events['week_number'] = events['occurred_at'].dt.week\n",
    "#Count how many events per week\n",
    "events_per_week = events.groupby('week_number').count().reset_index()\n",
    "events_per_week"
   ]
  },
  {
   "cell_type": "code",
   "execution_count": 60,
   "metadata": {},
   "outputs": [
    {
     "data": {
      "text/plain": [
       "[<matplotlib.lines.Line2D at 0x27a32ebfe08>]"
      ]
     },
     "execution_count": 60,
     "metadata": {},
     "output_type": "execute_result"
    },
    {
     "data": {
      "image/png": "[encoded data removed]",
      "text/plain": [
       "<Figure size 432x288 with 1 Axes>"
      ]
     },
     "metadata": {
      "needs_background": "light"
     },
     "output_type": "display_data"
    }
   ],
   "source": [
    "# take a look at the plot\n",
    "plt.plot(events_per_week['week_number'], events_per_week['event_type'])"
   ]
  },
  {
   "cell_type": "code",
   "execution_count": 54,
   "metadata": {},
   "outputs": [
    {
     "data": {
      "text/html": [
       "<div>\n",
       "<style scoped>\n",
       "    .dataframe tbody tr th:only-of-type {\n",
       "        vertical-align: middle;\n",
       "    }\n",
       "\n",
       "    .dataframe tbody tr th {\n",
       "        vertical-align: top;\n",
       "    }\n",
       "\n",
       "    .dataframe thead th {\n",
       "        text-align: right;\n",
       "    }\n",
       "</style>\n",
       "<table border=\"1\" class=\"dataframe\">\n",
       "  <thead>\n",
       "    <tr style=\"text-align: right;\">\n",
       "      <th></th>\n",
       "      <th>week_number</th>\n",
       "      <th>user_id</th>\n",
       "      <th>Unnamed: 0</th>\n",
       "      <th>occurred_at</th>\n",
       "      <th>event_type</th>\n",
       "      <th>event_name</th>\n",
       "      <th>location</th>\n",
       "      <th>device</th>\n",
       "      <th>user_type</th>\n",
       "    </tr>\n",
       "  </thead>\n",
       "  <tbody>\n",
       "    <tr>\n",
       "      <th>0</th>\n",
       "      <td>18</td>\n",
       "      <td>8.0</td>\n",
       "      <td>2</td>\n",
       "      <td>2</td>\n",
       "      <td>2</td>\n",
       "      <td>2</td>\n",
       "      <td>2</td>\n",
       "      <td>2</td>\n",
       "      <td>2</td>\n",
       "    </tr>\n",
       "    <tr>\n",
       "      <th>1</th>\n",
       "      <td>18</td>\n",
       "      <td>22.0</td>\n",
       "      <td>8</td>\n",
       "      <td>8</td>\n",
       "      <td>8</td>\n",
       "      <td>8</td>\n",
       "      <td>8</td>\n",
       "      <td>8</td>\n",
       "      <td>8</td>\n",
       "    </tr>\n",
       "    <tr>\n",
       "      <th>2</th>\n",
       "      <td>18</td>\n",
       "      <td>66.0</td>\n",
       "      <td>14</td>\n",
       "      <td>14</td>\n",
       "      <td>14</td>\n",
       "      <td>14</td>\n",
       "      <td>14</td>\n",
       "      <td>14</td>\n",
       "      <td>14</td>\n",
       "    </tr>\n",
       "    <tr>\n",
       "      <th>3</th>\n",
       "      <td>18</td>\n",
       "      <td>163.0</td>\n",
       "      <td>22</td>\n",
       "      <td>22</td>\n",
       "      <td>22</td>\n",
       "      <td>22</td>\n",
       "      <td>22</td>\n",
       "      <td>22</td>\n",
       "      <td>22</td>\n",
       "    </tr>\n",
       "    <tr>\n",
       "      <th>4</th>\n",
       "      <td>18</td>\n",
       "      <td>172.0</td>\n",
       "      <td>15</td>\n",
       "      <td>15</td>\n",
       "      <td>15</td>\n",
       "      <td>15</td>\n",
       "      <td>15</td>\n",
       "      <td>15</td>\n",
       "      <td>15</td>\n",
       "    </tr>\n",
       "  </tbody>\n",
       "</table>\n",
       "</div>"
      ],
      "text/plain": [
       "   week_number  user_id  Unnamed: 0  occurred_at  event_type  event_name  \\\n",
       "0           18      8.0           2            2           2           2   \n",
       "1           18     22.0           8            8           8           8   \n",
       "2           18     66.0          14           14          14          14   \n",
       "3           18    163.0          22           22          22          22   \n",
       "4           18    172.0          15           15          15          15   \n",
       "\n",
       "   location  device  user_type  \n",
       "0         2       2          2  \n",
       "1         8       8          8  \n",
       "2        14      14         14  \n",
       "3        22      22         22  \n",
       "4        15      15         15  "
      ]
     },
     "execution_count": 54,
     "metadata": {},
     "output_type": "execute_result"
    }
   ],
   "source": [
    "#Count how many events per week per user\n",
    "events_per_week_per_user = events.groupby(['week_number', 'user_id']).count().reset_index()\n",
    "events_per_week_per_user.head()"
   ]
  },
  {
   "cell_type": "code",
   "execution_count": 55,
   "metadata": {},
   "outputs": [
    {
     "data": {
      "text/html": [
       "<div>\n",
       "<style scoped>\n",
       "    .dataframe tbody tr th:only-of-type {\n",
       "        vertical-align: middle;\n",
       "    }\n",
       "\n",
       "    .dataframe tbody tr th {\n",
       "        vertical-align: top;\n",
       "    }\n",
       "\n",
       "    .dataframe thead th {\n",
       "        text-align: right;\n",
       "    }\n",
       "</style>\n",
       "<table border=\"1\" class=\"dataframe\">\n",
       "  <thead>\n",
       "    <tr style=\"text-align: right;\">\n",
       "      <th></th>\n",
       "      <th>week_number</th>\n",
       "      <th>user_id</th>\n",
       "    </tr>\n",
       "  </thead>\n",
       "  <tbody>\n",
       "    <tr>\n",
       "      <th>0</th>\n",
       "      <td>18</td>\n",
       "      <td>791</td>\n",
       "    </tr>\n",
       "    <tr>\n",
       "      <th>1</th>\n",
       "      <td>19</td>\n",
       "      <td>1244</td>\n",
       "    </tr>\n",
       "    <tr>\n",
       "      <th>2</th>\n",
       "      <td>20</td>\n",
       "      <td>1270</td>\n",
       "    </tr>\n",
       "    <tr>\n",
       "      <th>3</th>\n",
       "      <td>21</td>\n",
       "      <td>1341</td>\n",
       "    </tr>\n",
       "    <tr>\n",
       "      <th>4</th>\n",
       "      <td>22</td>\n",
       "      <td>1293</td>\n",
       "    </tr>\n",
       "    <tr>\n",
       "      <th>5</th>\n",
       "      <td>23</td>\n",
       "      <td>1366</td>\n",
       "    </tr>\n",
       "    <tr>\n",
       "      <th>6</th>\n",
       "      <td>24</td>\n",
       "      <td>1434</td>\n",
       "    </tr>\n",
       "    <tr>\n",
       "      <th>7</th>\n",
       "      <td>25</td>\n",
       "      <td>1462</td>\n",
       "    </tr>\n",
       "    <tr>\n",
       "      <th>8</th>\n",
       "      <td>26</td>\n",
       "      <td>1443</td>\n",
       "    </tr>\n",
       "    <tr>\n",
       "      <th>9</th>\n",
       "      <td>27</td>\n",
       "      <td>1477</td>\n",
       "    </tr>\n",
       "    <tr>\n",
       "      <th>10</th>\n",
       "      <td>28</td>\n",
       "      <td>1556</td>\n",
       "    </tr>\n",
       "    <tr>\n",
       "      <th>11</th>\n",
       "      <td>29</td>\n",
       "      <td>1556</td>\n",
       "    </tr>\n",
       "    <tr>\n",
       "      <th>12</th>\n",
       "      <td>30</td>\n",
       "      <td>1593</td>\n",
       "    </tr>\n",
       "    <tr>\n",
       "      <th>13</th>\n",
       "      <td>31</td>\n",
       "      <td>1685</td>\n",
       "    </tr>\n",
       "    <tr>\n",
       "      <th>14</th>\n",
       "      <td>32</td>\n",
       "      <td>1483</td>\n",
       "    </tr>\n",
       "    <tr>\n",
       "      <th>15</th>\n",
       "      <td>33</td>\n",
       "      <td>1438</td>\n",
       "    </tr>\n",
       "    <tr>\n",
       "      <th>16</th>\n",
       "      <td>34</td>\n",
       "      <td>1412</td>\n",
       "    </tr>\n",
       "    <tr>\n",
       "      <th>17</th>\n",
       "      <td>35</td>\n",
       "      <td>1442</td>\n",
       "    </tr>\n",
       "  </tbody>\n",
       "</table>\n",
       "</div>"
      ],
      "text/plain": [
       "    week_number  user_id\n",
       "0            18      791\n",
       "1            19     1244\n",
       "2            20     1270\n",
       "3            21     1341\n",
       "4            22     1293\n",
       "5            23     1366\n",
       "6            24     1434\n",
       "7            25     1462\n",
       "8            26     1443\n",
       "9            27     1477\n",
       "10           28     1556\n",
       "11           29     1556\n",
       "12           30     1593\n",
       "13           31     1685\n",
       "14           32     1483\n",
       "15           33     1438\n",
       "16           34     1412\n",
       "17           35     1442"
      ]
     },
     "execution_count": 55,
     "metadata": {},
     "output_type": "execute_result"
    }
   ],
   "source": [
    "active_user_per_week = events_per_week_per_user.groupby('week_number')['user_id'].count().reset_index()\n",
    "active_user_per_week"
   ]
  },
  {
   "cell_type": "code",
   "execution_count": 56,
   "metadata": {},
   "outputs": [
    {
     "data": {
      "text/plain": [
       "[<matplotlib.lines.Line2D at 0x27a3170a308>]"
      ]
     },
     "execution_count": 56,
     "metadata": {},
     "output_type": "execute_result"
    },
    {
     "data": {
      "image/png": "[encoded data removed]",
      "text/plain": [
       "<Figure size 432x288 with 1 Axes>"
      ]
     },
     "metadata": {
      "needs_background": "light"
     },
     "output_type": "display_data"
    }
   ],
   "source": [
    "plt.plot(active_user_per_week['week_number'], active_user_per_week['user_id'])"
   ]
  },
  {
   "cell_type": "code",
   "execution_count": null,
   "metadata": {},
   "outputs": [],
   "source": []
  },
  {
   "cell_type": "markdown",
   "metadata": {},
   "source": [
    "### Emails"
   ]
  },
  {
   "cell_type": "markdown",
   "metadata": {},
   "source": [
    "##### Actions"
   ]
  },
  {
   "cell_type": "code",
   "execution_count": null,
   "metadata": {},
   "outputs": [],
   "source": [
    "#how many action in the emails\n",
    "g=sns.catplot(x='action', kind='count', data=df_emails)\n",
    "g.set_xticklabels(rotation=30)"
   ]
  },
  {
   "cell_type": "markdown",
   "metadata": {},
   "source": [
    "## Merge users and events tables"
   ]
  },
  {
   "cell_type": "code",
   "execution_count": 75,
   "metadata": {},
   "outputs": [
    {
     "name": "stdout",
     "output_type": "stream",
     "text": [
      "<class 'pandas.core.frame.DataFrame'>\n",
      "Int64Index: 690970 entries, 0 to 690969\n",
      "Data columns (total 16 columns):\n",
      " #   Column        Non-Null Count   Dtype         \n",
      "---  ------        --------------   -----         \n",
      " 0   user_id       690970 non-null  float64       \n",
      " 1   created_at    680366 non-null  datetime64[ns]\n",
      " 2   company_id    690970 non-null  float64       \n",
      " 3   language      690970 non-null  object        \n",
      " 4   activated_at  680366 non-null  datetime64[ns]\n",
      " 5   state         690970 non-null  object        \n",
      " 6   act_date      680366 non-null  object        \n",
      " 7   cr_date       680366 non-null  object        \n",
      " 8   Unnamed: 0    681664 non-null  float64       \n",
      " 9   occurred_at   681664 non-null  datetime64[ns]\n",
      " 10  event_type    681664 non-null  object        \n",
      " 11  event_name    681664 non-null  object        \n",
      " 12  location      681664 non-null  object        \n",
      " 13  device        681664 non-null  object        \n",
      " 14  user_type     666087 non-null  object        \n",
      " 15  week_number   681664 non-null  float64       \n",
      "dtypes: datetime64[ns](3), float64(4), object(9)\n",
      "memory usage: 89.6+ MB\n"
     ]
    }
   ],
   "source": [
    "# Merge tables\n",
    "data = pd.merge(users,events,on='user_id',how='outer')\n",
    "data.info()"
   ]
  },
  {
   "cell_type": "markdown",
   "metadata": {},
   "source": [
    "#### Drop unnecessary vars "
   ]
  },
  {
   "cell_type": "code",
   "execution_count": 76,
   "metadata": {},
   "outputs": [],
   "source": [
    "# Drop unnecessary vars \n",
    "data.drop(['Unnamed: 0'], axis=1, inplace=True)\n"
   ]
  },
  {
   "cell_type": "code",
   "execution_count": 77,
   "metadata": {},
   "outputs": [
    {
     "name": "stdout",
     "output_type": "stream",
     "text": [
      "<class 'pandas.core.frame.DataFrame'>\n",
      "Int64Index: 690970 entries, 0 to 690969\n",
      "Data columns (total 15 columns):\n",
      " #   Column        Non-Null Count   Dtype         \n",
      "---  ------        --------------   -----         \n",
      " 0   user_id       690970 non-null  float64       \n",
      " 1   created_at    680366 non-null  datetime64[ns]\n",
      " 2   company_id    690970 non-null  float64       \n",
      " 3   language      690970 non-null  object        \n",
      " 4   activated_at  680366 non-null  datetime64[ns]\n",
      " 5   state         690970 non-null  object        \n",
      " 6   act_date      680366 non-null  object        \n",
      " 7   cr_date       680366 non-null  object        \n",
      " 8   occurred_at   681664 non-null  datetime64[ns]\n",
      " 9   event_type    681664 non-null  object        \n",
      " 10  event_name    681664 non-null  object        \n",
      " 11  location      681664 non-null  object        \n",
      " 12  device        681664 non-null  object        \n",
      " 13  user_type     666087 non-null  object        \n",
      " 14  week_number   681664 non-null  float64       \n",
      "dtypes: datetime64[ns](3), float64(3), object(9)\n",
      "memory usage: 84.3+ MB\n"
     ]
    }
   ],
   "source": [
    "data.info()"
   ]
  },
  {
   "cell_type": "markdown",
   "metadata": {},
   "source": [
    "#### Format data"
   ]
  },
  {
   "cell_type": "code",
   "execution_count": 78,
   "metadata": {},
   "outputs": [
    {
     "name": "stdout",
     "output_type": "stream",
     "text": [
      "<class 'pandas.core.frame.DataFrame'>\n",
      "Int64Index: 690970 entries, 0 to 690969\n",
      "Data columns (total 15 columns):\n",
      " #   Column        Non-Null Count   Dtype         \n",
      "---  ------        --------------   -----         \n",
      " 0   user_id       690970 non-null  object        \n",
      " 1   created_at    680366 non-null  datetime64[ns]\n",
      " 2   company_id    690970 non-null  object        \n",
      " 3   language      690970 non-null  object        \n",
      " 4   activated_at  680366 non-null  datetime64[ns]\n",
      " 5   state         690970 non-null  object        \n",
      " 6   act_date      680366 non-null  object        \n",
      " 7   cr_date       680366 non-null  object        \n",
      " 8   occurred_at   681664 non-null  datetime64[ns]\n",
      " 9   event_type    681664 non-null  object        \n",
      " 10  event_name    681664 non-null  object        \n",
      " 11  location      681664 non-null  object        \n",
      " 12  device        681664 non-null  object        \n",
      " 13  user_type     666087 non-null  object        \n",
      " 14  week_number   681664 non-null  float64       \n",
      "dtypes: datetime64[ns](3), float64(1), object(11)\n",
      "memory usage: 84.3+ MB\n"
     ]
    }
   ],
   "source": [
    "# Fromat dates\n",
    "data['created_at'] = pd.to_datetime(data['created_at'])\n",
    "data['occurred_at'] = pd.to_datetime(data['occurred_at'])\n",
    "data['activated_at'] = pd.to_datetime(data['activated_at'])\n",
    "data['company_id'] = data['company_id'].astype(str)\n",
    "data['user_id'] = data['user_id'].astype(str)\n",
    "data.info()"
   ]
  },
  {
   "cell_type": "markdown",
   "metadata": {},
   "source": [
    "#### Check nulls "
   ]
  },
  {
   "cell_type": "code",
   "execution_count": 79,
   "metadata": {},
   "outputs": [
    {
     "data": {
      "text/plain": [
       "user_id             0\n",
       "created_at      10604\n",
       "company_id          0\n",
       "language            0\n",
       "activated_at    10604\n",
       "state               0\n",
       "act_date        10604\n",
       "cr_date         10604\n",
       "occurred_at      9306\n",
       "event_type       9306\n",
       "event_name       9306\n",
       "location         9306\n",
       "device           9306\n",
       "user_type       24883\n",
       "week_number      9306\n",
       "dtype: int64"
      ]
     },
     "execution_count": 79,
     "metadata": {},
     "output_type": "execute_result"
    }
   ],
   "source": [
    "# Check nulls\n",
    "data.isnull().sum()"
   ]
  },
  {
   "cell_type": "code",
   "execution_count": 80,
   "metadata": {},
   "outputs": [
    {
     "data": {
      "text/plain": [
       "user_id         0.000000\n",
       "created_at      1.534654\n",
       "company_id      0.000000\n",
       "language        0.000000\n",
       "activated_at    1.534654\n",
       "state           0.000000\n",
       "act_date        1.534654\n",
       "cr_date         1.534654\n",
       "occurred_at     1.346802\n",
       "event_type      1.346802\n",
       "event_name      1.346802\n",
       "location        1.346802\n",
       "device          1.346802\n",
       "user_type       3.601169\n",
       "week_number     1.346802\n",
       "dtype: float64"
      ]
     },
     "execution_count": 80,
     "metadata": {},
     "output_type": "execute_result"
    }
   ],
   "source": [
    "#Alternative, percentage  (%) of nulls\n",
    "data.isnull().mean() * 100"
   ]
  },
  {
   "cell_type": "code",
   "execution_count": null,
   "metadata": {},
   "outputs": [],
   "source": [
    "# Alternative way for percentage  (%) of nulls\n",
    "percent_missing = data.isnull().sum() * 100 / len(data)\n",
    "missing_value_df = pd.DataFrame({'column_name': data.columns,\n",
    "                                 'percent_missing': percent_missing})\n",
    "missing_value_df.sort_values('percent_missing', inplace=True)\n",
    "missing_value_df"
   ]
  },
  {
   "cell_type": "code",
   "execution_count": 81,
   "metadata": {},
   "outputs": [
    {
     "data": {
      "text/html": [
       "<div>\n",
       "<style scoped>\n",
       "    .dataframe tbody tr th:only-of-type {\n",
       "        vertical-align: middle;\n",
       "    }\n",
       "\n",
       "    .dataframe tbody tr th {\n",
       "        vertical-align: top;\n",
       "    }\n",
       "\n",
       "    .dataframe thead th {\n",
       "        text-align: right;\n",
       "    }\n",
       "</style>\n",
       "<table border=\"1\" class=\"dataframe\">\n",
       "  <thead>\n",
       "    <tr style=\"text-align: right;\">\n",
       "      <th></th>\n",
       "      <th>user_id</th>\n",
       "      <th>created_at</th>\n",
       "      <th>company_id</th>\n",
       "      <th>language</th>\n",
       "      <th>activated_at</th>\n",
       "      <th>state</th>\n",
       "      <th>act_date</th>\n",
       "      <th>cr_date</th>\n",
       "      <th>occurred_at</th>\n",
       "      <th>event_type</th>\n",
       "      <th>event_name</th>\n",
       "      <th>location</th>\n",
       "      <th>device</th>\n",
       "      <th>user_type</th>\n",
       "      <th>week_number</th>\n",
       "    </tr>\n",
       "  </thead>\n",
       "  <tbody>\n",
       "    <tr>\n",
       "      <th>0</th>\n",
       "      <td>0.0</td>\n",
       "      <td>2013-01-01 21:01:07</td>\n",
       "      <td>5737.0</td>\n",
       "      <td>english</td>\n",
       "      <td>2013-01-01 21:01:07</td>\n",
       "      <td>active</td>\n",
       "      <td>2013-01-01</td>\n",
       "      <td>2013-01-01</td>\n",
       "      <td>NaT</td>\n",
       "      <td>NaN</td>\n",
       "      <td>NaN</td>\n",
       "      <td>NaN</td>\n",
       "      <td>NaN</td>\n",
       "      <td>NaN</td>\n",
       "      <td>NaN</td>\n",
       "    </tr>\n",
       "    <tr>\n",
       "      <th>1</th>\n",
       "      <td>1.0</td>\n",
       "      <td>NaT</td>\n",
       "      <td>28.0</td>\n",
       "      <td>english</td>\n",
       "      <td>NaT</td>\n",
       "      <td>pending</td>\n",
       "      <td>NaT</td>\n",
       "      <td>NaT</td>\n",
       "      <td>NaT</td>\n",
       "      <td>NaN</td>\n",
       "      <td>NaN</td>\n",
       "      <td>NaN</td>\n",
       "      <td>NaN</td>\n",
       "      <td>NaN</td>\n",
       "      <td>NaN</td>\n",
       "    </tr>\n",
       "    <tr>\n",
       "      <th>2</th>\n",
       "      <td>2.0</td>\n",
       "      <td>NaT</td>\n",
       "      <td>51.0</td>\n",
       "      <td>english</td>\n",
       "      <td>NaT</td>\n",
       "      <td>pending</td>\n",
       "      <td>NaT</td>\n",
       "      <td>NaT</td>\n",
       "      <td>NaT</td>\n",
       "      <td>NaN</td>\n",
       "      <td>NaN</td>\n",
       "      <td>NaN</td>\n",
       "      <td>NaN</td>\n",
       "      <td>NaN</td>\n",
       "      <td>NaN</td>\n",
       "    </tr>\n",
       "    <tr>\n",
       "      <th>3</th>\n",
       "      <td>3.0</td>\n",
       "      <td>2013-01-01 18:42:02</td>\n",
       "      <td>2800.0</td>\n",
       "      <td>german</td>\n",
       "      <td>2013-01-01 18:42:02</td>\n",
       "      <td>active</td>\n",
       "      <td>2013-01-01</td>\n",
       "      <td>2013-01-01</td>\n",
       "      <td>NaT</td>\n",
       "      <td>NaN</td>\n",
       "      <td>NaN</td>\n",
       "      <td>NaN</td>\n",
       "      <td>NaN</td>\n",
       "      <td>NaN</td>\n",
       "      <td>NaN</td>\n",
       "    </tr>\n",
       "    <tr>\n",
       "      <th>4</th>\n",
       "      <td>4.0</td>\n",
       "      <td>2013-01-01 14:39:05</td>\n",
       "      <td>5110.0</td>\n",
       "      <td>indian</td>\n",
       "      <td>2013-01-01 14:39:05</td>\n",
       "      <td>active</td>\n",
       "      <td>2013-01-01</td>\n",
       "      <td>2013-01-01</td>\n",
       "      <td>2014-05-13 09:31:47</td>\n",
       "      <td>engagement</td>\n",
       "      <td>login</td>\n",
       "      <td>India</td>\n",
       "      <td>lenovo thinkpad</td>\n",
       "      <td>User_3</td>\n",
       "      <td>20.0</td>\n",
       "    </tr>\n",
       "  </tbody>\n",
       "</table>\n",
       "</div>"
      ],
      "text/plain": [
       "  user_id          created_at company_id language        activated_at  \\\n",
       "0     0.0 2013-01-01 21:01:07     5737.0  english 2013-01-01 21:01:07   \n",
       "1     1.0                 NaT       28.0  english                 NaT   \n",
       "2     2.0                 NaT       51.0  english                 NaT   \n",
       "3     3.0 2013-01-01 18:42:02     2800.0   german 2013-01-01 18:42:02   \n",
       "4     4.0 2013-01-01 14:39:05     5110.0   indian 2013-01-01 14:39:05   \n",
       "\n",
       "     state    act_date     cr_date         occurred_at  event_type event_name  \\\n",
       "0   active  2013-01-01  2013-01-01                 NaT         NaN        NaN   \n",
       "1  pending         NaT         NaT                 NaT         NaN        NaN   \n",
       "2  pending         NaT         NaT                 NaT         NaN        NaN   \n",
       "3   active  2013-01-01  2013-01-01                 NaT         NaN        NaN   \n",
       "4   active  2013-01-01  2013-01-01 2014-05-13 09:31:47  engagement      login   \n",
       "\n",
       "  location           device user_type  week_number  \n",
       "0      NaN              NaN       NaN          NaN  \n",
       "1      NaN              NaN       NaN          NaN  \n",
       "2      NaN              NaN       NaN          NaN  \n",
       "3      NaN              NaN       NaN          NaN  \n",
       "4    India  lenovo thinkpad    User_3         20.0  "
      ]
     },
     "execution_count": 81,
     "metadata": {},
     "output_type": "execute_result"
    }
   ],
   "source": [
    "data.dropna()\n",
    "data.head()"
   ]
  },
  {
   "cell_type": "markdown",
   "metadata": {},
   "source": [
    "##### Active users"
   ]
  },
  {
   "cell_type": "code",
   "execution_count": 82,
   "metadata": {},
   "outputs": [
    {
     "data": {
      "text/html": [
       "<div>\n",
       "<style scoped>\n",
       "    .dataframe tbody tr th:only-of-type {\n",
       "        vertical-align: middle;\n",
       "    }\n",
       "\n",
       "    .dataframe tbody tr th {\n",
       "        vertical-align: top;\n",
       "    }\n",
       "\n",
       "    .dataframe thead th {\n",
       "        text-align: right;\n",
       "    }\n",
       "</style>\n",
       "<table border=\"1\" class=\"dataframe\">\n",
       "  <thead>\n",
       "    <tr style=\"text-align: right;\">\n",
       "      <th></th>\n",
       "      <th>user_id</th>\n",
       "      <th>created_at</th>\n",
       "      <th>company_id</th>\n",
       "      <th>language</th>\n",
       "      <th>activated_at</th>\n",
       "      <th>state</th>\n",
       "      <th>act_date</th>\n",
       "      <th>cr_date</th>\n",
       "      <th>occurred_at</th>\n",
       "      <th>event_type</th>\n",
       "      <th>event_name</th>\n",
       "      <th>location</th>\n",
       "      <th>device</th>\n",
       "      <th>user_type</th>\n",
       "      <th>week_number</th>\n",
       "    </tr>\n",
       "  </thead>\n",
       "  <tbody>\n",
       "    <tr>\n",
       "      <th>0</th>\n",
       "      <td>0.0</td>\n",
       "      <td>2013-01-01 21:01:07</td>\n",
       "      <td>5737.0</td>\n",
       "      <td>english</td>\n",
       "      <td>2013-01-01 21:01:07</td>\n",
       "      <td>active</td>\n",
       "      <td>2013-01-01</td>\n",
       "      <td>2013-01-01</td>\n",
       "      <td>NaT</td>\n",
       "      <td>NaN</td>\n",
       "      <td>NaN</td>\n",
       "      <td>NaN</td>\n",
       "      <td>NaN</td>\n",
       "      <td>NaN</td>\n",
       "      <td>NaN</td>\n",
       "    </tr>\n",
       "    <tr>\n",
       "      <th>3</th>\n",
       "      <td>3.0</td>\n",
       "      <td>2013-01-01 18:42:02</td>\n",
       "      <td>2800.0</td>\n",
       "      <td>german</td>\n",
       "      <td>2013-01-01 18:42:02</td>\n",
       "      <td>active</td>\n",
       "      <td>2013-01-01</td>\n",
       "      <td>2013-01-01</td>\n",
       "      <td>NaT</td>\n",
       "      <td>NaN</td>\n",
       "      <td>NaN</td>\n",
       "      <td>NaN</td>\n",
       "      <td>NaN</td>\n",
       "      <td>NaN</td>\n",
       "      <td>NaN</td>\n",
       "    </tr>\n",
       "    <tr>\n",
       "      <th>4</th>\n",
       "      <td>4.0</td>\n",
       "      <td>2013-01-01 14:39:05</td>\n",
       "      <td>5110.0</td>\n",
       "      <td>indian</td>\n",
       "      <td>2013-01-01 14:39:05</td>\n",
       "      <td>active</td>\n",
       "      <td>2013-01-01</td>\n",
       "      <td>2013-01-01</td>\n",
       "      <td>2014-05-13 09:31:47</td>\n",
       "      <td>engagement</td>\n",
       "      <td>login</td>\n",
       "      <td>India</td>\n",
       "      <td>lenovo thinkpad</td>\n",
       "      <td>User_3</td>\n",
       "      <td>20.0</td>\n",
       "    </tr>\n",
       "    <tr>\n",
       "      <th>5</th>\n",
       "      <td>4.0</td>\n",
       "      <td>2013-01-01 14:39:05</td>\n",
       "      <td>5110.0</td>\n",
       "      <td>indian</td>\n",
       "      <td>2013-01-01 14:39:05</td>\n",
       "      <td>active</td>\n",
       "      <td>2013-01-01</td>\n",
       "      <td>2013-01-01</td>\n",
       "      <td>2014-05-13 09:32:10</td>\n",
       "      <td>engagement</td>\n",
       "      <td>home_page</td>\n",
       "      <td>India</td>\n",
       "      <td>lenovo thinkpad</td>\n",
       "      <td>User_3</td>\n",
       "      <td>20.0</td>\n",
       "    </tr>\n",
       "    <tr>\n",
       "      <th>6</th>\n",
       "      <td>4.0</td>\n",
       "      <td>2013-01-01 14:39:05</td>\n",
       "      <td>5110.0</td>\n",
       "      <td>indian</td>\n",
       "      <td>2013-01-01 14:39:05</td>\n",
       "      <td>active</td>\n",
       "      <td>2013-01-01</td>\n",
       "      <td>2013-01-01</td>\n",
       "      <td>2014-05-13 09:32:26</td>\n",
       "      <td>engagement</td>\n",
       "      <td>search_autocomplete</td>\n",
       "      <td>India</td>\n",
       "      <td>lenovo thinkpad</td>\n",
       "      <td>User_3</td>\n",
       "      <td>20.0</td>\n",
       "    </tr>\n",
       "  </tbody>\n",
       "</table>\n",
       "</div>"
      ],
      "text/plain": [
       "  user_id          created_at company_id language        activated_at   state  \\\n",
       "0     0.0 2013-01-01 21:01:07     5737.0  english 2013-01-01 21:01:07  active   \n",
       "3     3.0 2013-01-01 18:42:02     2800.0   german 2013-01-01 18:42:02  active   \n",
       "4     4.0 2013-01-01 14:39:05     5110.0   indian 2013-01-01 14:39:05  active   \n",
       "5     4.0 2013-01-01 14:39:05     5110.0   indian 2013-01-01 14:39:05  active   \n",
       "6     4.0 2013-01-01 14:39:05     5110.0   indian 2013-01-01 14:39:05  active   \n",
       "\n",
       "     act_date     cr_date         occurred_at  event_type  \\\n",
       "0  2013-01-01  2013-01-01                 NaT         NaN   \n",
       "3  2013-01-01  2013-01-01                 NaT         NaN   \n",
       "4  2013-01-01  2013-01-01 2014-05-13 09:31:47  engagement   \n",
       "5  2013-01-01  2013-01-01 2014-05-13 09:32:10  engagement   \n",
       "6  2013-01-01  2013-01-01 2014-05-13 09:32:26  engagement   \n",
       "\n",
       "            event_name location           device user_type  week_number  \n",
       "0                  NaN      NaN              NaN       NaN          NaN  \n",
       "3                  NaN      NaN              NaN       NaN          NaN  \n",
       "4                login    India  lenovo thinkpad    User_3         20.0  \n",
       "5            home_page    India  lenovo thinkpad    User_3         20.0  \n",
       "6  search_autocomplete    India  lenovo thinkpad    User_3         20.0  "
      ]
     },
     "execution_count": 82,
     "metadata": {},
     "output_type": "execute_result"
    }
   ],
   "source": [
    "#Count how many events per week per user\n",
    "active_events_per_week_per_user = data[data['state'] == 'active']\n",
    "active_events_per_week_per_user.head(5)"
   ]
  },
  {
   "cell_type": "code",
   "execution_count": 83,
   "metadata": {},
   "outputs": [
    {
     "name": "stdout",
     "output_type": "stream",
     "text": [
      "<class 'pandas.core.frame.DataFrame'>\n",
      "Int64Index: 680366 entries, 0 to 690967\n",
      "Data columns (total 15 columns):\n",
      " #   Column        Non-Null Count   Dtype         \n",
      "---  ------        --------------   -----         \n",
      " 0   user_id       680366 non-null  object        \n",
      " 1   created_at    680366 non-null  datetime64[ns]\n",
      " 2   company_id    680366 non-null  object        \n",
      " 3   language      680366 non-null  object        \n",
      " 4   activated_at  680366 non-null  datetime64[ns]\n",
      " 5   state         680366 non-null  object        \n",
      " 6   act_date      680366 non-null  object        \n",
      " 7   cr_date       680366 non-null  object        \n",
      " 8   occurred_at   677127 non-null  datetime64[ns]\n",
      " 9   event_type    677127 non-null  object        \n",
      " 10  event_name    677127 non-null  object        \n",
      " 11  location      677127 non-null  object        \n",
      " 12  device        677127 non-null  object        \n",
      " 13  user_type     666087 non-null  object        \n",
      " 14  week_number   677127 non-null  float64       \n",
      "dtypes: datetime64[ns](3), float64(1), object(11)\n",
      "memory usage: 83.1+ MB\n"
     ]
    }
   ],
   "source": [
    "active_events_per_week_per_user.info()"
   ]
  },
  {
   "cell_type": "code",
   "execution_count": 84,
   "metadata": {},
   "outputs": [
    {
     "data": {
      "text/html": [
       "<div>\n",
       "<style scoped>\n",
       "    .dataframe tbody tr th:only-of-type {\n",
       "        vertical-align: middle;\n",
       "    }\n",
       "\n",
       "    .dataframe tbody tr th {\n",
       "        vertical-align: top;\n",
       "    }\n",
       "\n",
       "    .dataframe thead th {\n",
       "        text-align: right;\n",
       "    }\n",
       "</style>\n",
       "<table border=\"1\" class=\"dataframe\">\n",
       "  <thead>\n",
       "    <tr style=\"text-align: right;\">\n",
       "      <th></th>\n",
       "      <th>week_number</th>\n",
       "      <th>user_id</th>\n",
       "      <th>count_rows</th>\n",
       "    </tr>\n",
       "  </thead>\n",
       "  <tbody>\n",
       "    <tr>\n",
       "      <th>0</th>\n",
       "      <td>18.0</td>\n",
       "      <td>10033.0</td>\n",
       "      <td>36</td>\n",
       "    </tr>\n",
       "    <tr>\n",
       "      <th>1</th>\n",
       "      <td>18.0</td>\n",
       "      <td>10075.0</td>\n",
       "      <td>9</td>\n",
       "    </tr>\n",
       "    <tr>\n",
       "      <th>2</th>\n",
       "      <td>18.0</td>\n",
       "      <td>10094.0</td>\n",
       "      <td>36</td>\n",
       "    </tr>\n",
       "    <tr>\n",
       "      <th>3</th>\n",
       "      <td>18.0</td>\n",
       "      <td>10097.0</td>\n",
       "      <td>15</td>\n",
       "    </tr>\n",
       "    <tr>\n",
       "      <th>4</th>\n",
       "      <td>18.0</td>\n",
       "      <td>10099.0</td>\n",
       "      <td>21</td>\n",
       "    </tr>\n",
       "    <tr>\n",
       "      <th>...</th>\n",
       "      <td>...</td>\n",
       "      <td>...</td>\n",
       "      <td>...</td>\n",
       "    </tr>\n",
       "    <tr>\n",
       "      <th>21663</th>\n",
       "      <td>35.0</td>\n",
       "      <td>9895.0</td>\n",
       "      <td>33</td>\n",
       "    </tr>\n",
       "    <tr>\n",
       "      <th>21664</th>\n",
       "      <td>35.0</td>\n",
       "      <td>9949.0</td>\n",
       "      <td>27</td>\n",
       "    </tr>\n",
       "    <tr>\n",
       "      <th>21665</th>\n",
       "      <td>35.0</td>\n",
       "      <td>9954.0</td>\n",
       "      <td>27</td>\n",
       "    </tr>\n",
       "    <tr>\n",
       "      <th>21666</th>\n",
       "      <td>35.0</td>\n",
       "      <td>9956.0</td>\n",
       "      <td>78</td>\n",
       "    </tr>\n",
       "    <tr>\n",
       "      <th>21667</th>\n",
       "      <td>35.0</td>\n",
       "      <td>9993.0</td>\n",
       "      <td>54</td>\n",
       "    </tr>\n",
       "  </tbody>\n",
       "</table>\n",
       "<p>21668 rows × 3 columns</p>\n",
       "</div>"
      ],
      "text/plain": [
       "       week_number  user_id  count_rows\n",
       "0             18.0  10033.0          36\n",
       "1             18.0  10075.0           9\n",
       "2             18.0  10094.0          36\n",
       "3             18.0  10097.0          15\n",
       "4             18.0  10099.0          21\n",
       "...            ...      ...         ...\n",
       "21663         35.0   9895.0          33\n",
       "21664         35.0   9949.0          27\n",
       "21665         35.0   9954.0          27\n",
       "21666         35.0   9956.0          78\n",
       "21667         35.0   9993.0          54\n",
       "\n",
       "[21668 rows x 3 columns]"
      ]
     },
     "execution_count": 84,
     "metadata": {},
     "output_type": "execute_result"
    }
   ],
   "source": [
    "active_events_per_week_per_user.groupby(['week_number', 'user_id']).agg(\n",
    "    count_rows=pd.NamedAgg(column='event_type', aggfunc=\"count\")).reset_index()"
   ]
  },
  {
   "cell_type": "code",
   "execution_count": 85,
   "metadata": {},
   "outputs": [
    {
     "data": {
      "text/html": [
       "<div>\n",
       "<style scoped>\n",
       "    .dataframe tbody tr th:only-of-type {\n",
       "        vertical-align: middle;\n",
       "    }\n",
       "\n",
       "    .dataframe tbody tr th {\n",
       "        vertical-align: top;\n",
       "    }\n",
       "\n",
       "    .dataframe thead th {\n",
       "        text-align: right;\n",
       "    }\n",
       "</style>\n",
       "<table border=\"1\" class=\"dataframe\">\n",
       "  <thead>\n",
       "    <tr style=\"text-align: right;\">\n",
       "      <th></th>\n",
       "      <th>week_number</th>\n",
       "      <th>user_id</th>\n",
       "    </tr>\n",
       "  </thead>\n",
       "  <tbody>\n",
       "    <tr>\n",
       "      <th>0</th>\n",
       "      <td>18.0</td>\n",
       "      <td>17303</td>\n",
       "    </tr>\n",
       "    <tr>\n",
       "      <th>1</th>\n",
       "      <td>19.0</td>\n",
       "      <td>35028</td>\n",
       "    </tr>\n",
       "    <tr>\n",
       "      <th>2</th>\n",
       "      <td>20.0</td>\n",
       "      <td>33179</td>\n",
       "    </tr>\n",
       "    <tr>\n",
       "      <th>3</th>\n",
       "      <td>21.0</td>\n",
       "      <td>35462</td>\n",
       "    </tr>\n",
       "    <tr>\n",
       "      <th>4</th>\n",
       "      <td>22.0</td>\n",
       "      <td>34447</td>\n",
       "    </tr>\n",
       "    <tr>\n",
       "      <th>5</th>\n",
       "      <td>23.0</td>\n",
       "      <td>37552</td>\n",
       "    </tr>\n",
       "    <tr>\n",
       "      <th>6</th>\n",
       "      <td>24.0</td>\n",
       "      <td>37163</td>\n",
       "    </tr>\n",
       "    <tr>\n",
       "      <th>7</th>\n",
       "      <td>25.0</td>\n",
       "      <td>38670</td>\n",
       "    </tr>\n",
       "    <tr>\n",
       "      <th>8</th>\n",
       "      <td>26.0</td>\n",
       "      <td>39673</td>\n",
       "    </tr>\n",
       "    <tr>\n",
       "      <th>9</th>\n",
       "      <td>27.0</td>\n",
       "      <td>39287</td>\n",
       "    </tr>\n",
       "    <tr>\n",
       "      <th>10</th>\n",
       "      <td>28.0</td>\n",
       "      <td>42953</td>\n",
       "    </tr>\n",
       "    <tr>\n",
       "      <th>11</th>\n",
       "      <td>29.0</td>\n",
       "      <td>44801</td>\n",
       "    </tr>\n",
       "    <tr>\n",
       "      <th>12</th>\n",
       "      <td>30.0</td>\n",
       "      <td>44162</td>\n",
       "    </tr>\n",
       "    <tr>\n",
       "      <th>13</th>\n",
       "      <td>31.0</td>\n",
       "      <td>46792</td>\n",
       "    </tr>\n",
       "    <tr>\n",
       "      <th>14</th>\n",
       "      <td>32.0</td>\n",
       "      <td>40783</td>\n",
       "    </tr>\n",
       "    <tr>\n",
       "      <th>15</th>\n",
       "      <td>33.0</td>\n",
       "      <td>37298</td>\n",
       "    </tr>\n",
       "    <tr>\n",
       "      <th>16</th>\n",
       "      <td>34.0</td>\n",
       "      <td>36146</td>\n",
       "    </tr>\n",
       "    <tr>\n",
       "      <th>17</th>\n",
       "      <td>35.0</td>\n",
       "      <td>36428</td>\n",
       "    </tr>\n",
       "  </tbody>\n",
       "</table>\n",
       "</div>"
      ],
      "text/plain": [
       "    week_number  user_id\n",
       "0          18.0    17303\n",
       "1          19.0    35028\n",
       "2          20.0    33179\n",
       "3          21.0    35462\n",
       "4          22.0    34447\n",
       "5          23.0    37552\n",
       "6          24.0    37163\n",
       "7          25.0    38670\n",
       "8          26.0    39673\n",
       "9          27.0    39287\n",
       "10         28.0    42953\n",
       "11         29.0    44801\n",
       "12         30.0    44162\n",
       "13         31.0    46792\n",
       "14         32.0    40783\n",
       "15         33.0    37298\n",
       "16         34.0    36146\n",
       "17         35.0    36428"
      ]
     },
     "execution_count": 85,
     "metadata": {},
     "output_type": "execute_result"
    }
   ],
   "source": [
    "active_user_per_week = active_events_per_week_per_user.groupby('week_number')['user_id'].count().reset_index()\n",
    "active_user_per_week"
   ]
  },
  {
   "cell_type": "code",
   "execution_count": 86,
   "metadata": {},
   "outputs": [
    {
     "name": "stdout",
     "output_type": "stream",
     "text": [
      "<class 'pandas.core.frame.DataFrame'>\n",
      "RangeIndex: 18 entries, 0 to 17\n",
      "Data columns (total 2 columns):\n",
      " #   Column       Non-Null Count  Dtype  \n",
      "---  ------       --------------  -----  \n",
      " 0   week_number  18 non-null     float64\n",
      " 1   user_id      18 non-null     int64  \n",
      "dtypes: float64(1), int64(1)\n",
      "memory usage: 416.0 bytes\n"
     ]
    }
   ],
   "source": [
    "active_user_per_week.info()"
   ]
  },
  {
   "cell_type": "code",
   "execution_count": 87,
   "metadata": {},
   "outputs": [
    {
     "data": {
      "text/plain": [
       "[<matplotlib.lines.Line2D at 0x27a5d4eed48>]"
      ]
     },
     "execution_count": 87,
     "metadata": {},
     "output_type": "execute_result"
    },
    {
     "data": {
      "image/png": "[encoded data removed]",
      "text/plain": [
       "<Figure size 432x288 with 1 Axes>"
      ]
     },
     "metadata": {
      "needs_background": "light"
     },
     "output_type": "display_data"
    }
   ],
   "source": [
    "plt.plot(active_user_per_week['week_number'], active_user_per_week['user_id'])"
   ]
  },
  {
   "cell_type": "markdown",
   "metadata": {},
   "source": [
    "##### Events per device"
   ]
  },
  {
   "cell_type": "code",
   "execution_count": 90,
   "metadata": {},
   "outputs": [
    {
     "data": {
      "text/html": [
       "<div>\n",
       "<style scoped>\n",
       "    .dataframe tbody tr th:only-of-type {\n",
       "        vertical-align: middle;\n",
       "    }\n",
       "\n",
       "    .dataframe tbody tr th {\n",
       "        vertical-align: top;\n",
       "    }\n",
       "\n",
       "    .dataframe thead th {\n",
       "        text-align: right;\n",
       "    }\n",
       "</style>\n",
       "<table border=\"1\" class=\"dataframe\">\n",
       "  <thead>\n",
       "    <tr style=\"text-align: right;\">\n",
       "      <th></th>\n",
       "      <th>user_id</th>\n",
       "      <th>created_at</th>\n",
       "      <th>company_id</th>\n",
       "      <th>language</th>\n",
       "      <th>activated_at</th>\n",
       "      <th>state</th>\n",
       "      <th>act_date</th>\n",
       "      <th>cr_date</th>\n",
       "      <th>occurred_at</th>\n",
       "      <th>event_type</th>\n",
       "      <th>event_name</th>\n",
       "      <th>location</th>\n",
       "      <th>device</th>\n",
       "      <th>user_type</th>\n",
       "      <th>week_number</th>\n",
       "    </tr>\n",
       "  </thead>\n",
       "  <tbody>\n",
       "    <tr>\n",
       "      <th>4</th>\n",
       "      <td>4.0</td>\n",
       "      <td>2013-01-01 14:39:05</td>\n",
       "      <td>5110.0</td>\n",
       "      <td>indian</td>\n",
       "      <td>2013-01-01 14:39:05</td>\n",
       "      <td>active</td>\n",
       "      <td>2013-01-01</td>\n",
       "      <td>2013-01-01</td>\n",
       "      <td>2014-05-13 09:31:47</td>\n",
       "      <td>engagement</td>\n",
       "      <td>login</td>\n",
       "      <td>India</td>\n",
       "      <td>lenovo thinkpad</td>\n",
       "      <td>User_3</td>\n",
       "      <td>20.0</td>\n",
       "    </tr>\n",
       "    <tr>\n",
       "      <th>8</th>\n",
       "      <td>4.0</td>\n",
       "      <td>2013-01-01 14:39:05</td>\n",
       "      <td>5110.0</td>\n",
       "      <td>indian</td>\n",
       "      <td>2013-01-01 14:39:05</td>\n",
       "      <td>active</td>\n",
       "      <td>2013-01-01</td>\n",
       "      <td>2013-01-01</td>\n",
       "      <td>2014-05-24 11:39:53</td>\n",
       "      <td>engagement</td>\n",
       "      <td>login</td>\n",
       "      <td>India</td>\n",
       "      <td>samsung galaxy s4</td>\n",
       "      <td>User_3</td>\n",
       "      <td>21.0</td>\n",
       "    </tr>\n",
       "  </tbody>\n",
       "</table>\n",
       "</div>"
      ],
      "text/plain": [
       "  user_id          created_at company_id language        activated_at   state  \\\n",
       "4     4.0 2013-01-01 14:39:05     5110.0   indian 2013-01-01 14:39:05  active   \n",
       "8     4.0 2013-01-01 14:39:05     5110.0   indian 2013-01-01 14:39:05  active   \n",
       "\n",
       "     act_date     cr_date         occurred_at  event_type event_name location  \\\n",
       "4  2013-01-01  2013-01-01 2014-05-13 09:31:47  engagement      login    India   \n",
       "8  2013-01-01  2013-01-01 2014-05-24 11:39:53  engagement      login    India   \n",
       "\n",
       "              device user_type  week_number  \n",
       "4    lenovo thinkpad    User_3         20.0  \n",
       "8  samsung galaxy s4    User_3         21.0  "
      ]
     },
     "execution_count": 90,
     "metadata": {},
     "output_type": "execute_result"
    }
   ],
   "source": [
    "events_device = active_events_per_week_per_user[ (active_events_per_week_per_user.event_type=='engagement') & (active_events_per_week_per_user.event_name == 'login')]\n",
    "events_device.head(2)"
   ]
  },
  {
   "cell_type": "code",
   "execution_count": 91,
   "metadata": {},
   "outputs": [
    {
     "data": {
      "text/plain": [
       "array(['lenovo thinkpad', 'samsung galaxy s4', 'dell inspiron desktop',\n",
       "       'nexus 7', 'macbook pro', 'iphone 5s', 'iphone 4s', 'ipad air',\n",
       "       'iphone 5', 'kindle fire', 'asus chromebook', 'nexus 5',\n",
       "       'hp pavilion desktop', 'macbook air', 'acer aspire notebook',\n",
       "       'htc one', 'mac mini', 'amazon fire phone', 'acer aspire desktop',\n",
       "       'dell inspiron notebook', 'nokia lumia 635', 'ipad mini',\n",
       "       'nexus 10', 'windows surface', 'samsumg galaxy tablet',\n",
       "       'samsung galaxy note'], dtype=object)"
      ]
     },
     "execution_count": 91,
     "metadata": {},
     "output_type": "execute_result"
    }
   ],
   "source": [
    "events_device['device'].unique()"
   ]
  },
  {
   "cell_type": "code",
   "execution_count": 93,
   "metadata": {},
   "outputs": [],
   "source": [
    "#Define vectors for device type\n",
    "phone=['iphone 5','samsung galaxy s4','nexus 5','iphone 5s','iphone 4s','nokia lumia 635',\n",
    "       'htc one','samsung galaxy note','amazon fire phone']\n",
    "computer=['macbook pro','lenovo thinkpad','macbook air','dell inspiron notebook',\n",
    "          'asus chromebook','dell inspiron desktop','acer aspire notebook','hp pavilion desktop','acer aspire desktop','mac mini']\n",
    "tablet=['ipad air','nexus 7','ipad mini','nexus 10','kindle fire','windows surface',\n",
    "        'samsumg galaxy tablet']\n",
    "# Create a list then add to df \n",
    "device_type_list=[]\n",
    "for element in events_device['device']:\n",
    "    if element in phone:\n",
    "        device_type_list.append('phone')\n",
    "    if element in computer:\n",
    "        device_type_list.append('computer')\n",
    "    if element in tablet:\n",
    "        device_type_list.append('tablet')"
   ]
  },
  {
   "cell_type": "code",
   "execution_count": 94,
   "metadata": {},
   "outputs": [
    {
     "data": {
      "text/plain": [
       "80400"
      ]
     },
     "execution_count": 94,
     "metadata": {},
     "output_type": "execute_result"
    }
   ],
   "source": [
    "len(device_type_list)"
   ]
  },
  {
   "cell_type": "code",
   "execution_count": 95,
   "metadata": {},
   "outputs": [],
   "source": [
    "# Add the list to the df\n",
    "events_device['device_type'] = device_type_list"
   ]
  },
  {
   "cell_type": "code",
   "execution_count": 96,
   "metadata": {},
   "outputs": [
    {
     "data": {
      "text/plain": [
       "computer    46365\n",
       "phone       25017\n",
       "tablet       9018\n",
       "Name: device_type, dtype: int64"
      ]
     },
     "execution_count": 96,
     "metadata": {},
     "output_type": "execute_result"
    }
   ],
   "source": [
    "events_device['device_type'].value_counts()"
   ]
  },
  {
   "cell_type": "code",
   "execution_count": 97,
   "metadata": {},
   "outputs": [
    {
     "data": {
      "text/html": [
       "<div>\n",
       "<style scoped>\n",
       "    .dataframe tbody tr th:only-of-type {\n",
       "        vertical-align: middle;\n",
       "    }\n",
       "\n",
       "    .dataframe tbody tr th {\n",
       "        vertical-align: top;\n",
       "    }\n",
       "\n",
       "    .dataframe thead th {\n",
       "        text-align: right;\n",
       "    }\n",
       "</style>\n",
       "<table border=\"1\" class=\"dataframe\">\n",
       "  <thead>\n",
       "    <tr style=\"text-align: right;\">\n",
       "      <th></th>\n",
       "      <th>user_id</th>\n",
       "      <th>created_at</th>\n",
       "      <th>company_id</th>\n",
       "      <th>language</th>\n",
       "      <th>activated_at</th>\n",
       "      <th>state</th>\n",
       "      <th>act_date</th>\n",
       "      <th>cr_date</th>\n",
       "      <th>occurred_at</th>\n",
       "      <th>event_type</th>\n",
       "      <th>event_name</th>\n",
       "      <th>location</th>\n",
       "      <th>device</th>\n",
       "      <th>user_type</th>\n",
       "      <th>week_number</th>\n",
       "      <th>device_type</th>\n",
       "    </tr>\n",
       "  </thead>\n",
       "  <tbody>\n",
       "    <tr>\n",
       "      <th>4</th>\n",
       "      <td>4.0</td>\n",
       "      <td>2013-01-01 14:39:05</td>\n",
       "      <td>5110.0</td>\n",
       "      <td>indian</td>\n",
       "      <td>2013-01-01 14:39:05</td>\n",
       "      <td>active</td>\n",
       "      <td>2013-01-01</td>\n",
       "      <td>2013-01-01</td>\n",
       "      <td>2014-05-13 09:31:47</td>\n",
       "      <td>engagement</td>\n",
       "      <td>login</td>\n",
       "      <td>India</td>\n",
       "      <td>lenovo thinkpad</td>\n",
       "      <td>User_3</td>\n",
       "      <td>20.0</td>\n",
       "      <td>computer</td>\n",
       "    </tr>\n",
       "    <tr>\n",
       "      <th>8</th>\n",
       "      <td>4.0</td>\n",
       "      <td>2013-01-01 14:39:05</td>\n",
       "      <td>5110.0</td>\n",
       "      <td>indian</td>\n",
       "      <td>2013-01-01 14:39:05</td>\n",
       "      <td>active</td>\n",
       "      <td>2013-01-01</td>\n",
       "      <td>2013-01-01</td>\n",
       "      <td>2014-05-24 11:39:53</td>\n",
       "      <td>engagement</td>\n",
       "      <td>login</td>\n",
       "      <td>India</td>\n",
       "      <td>samsung galaxy s4</td>\n",
       "      <td>User_3</td>\n",
       "      <td>21.0</td>\n",
       "      <td>phone</td>\n",
       "    </tr>\n",
       "  </tbody>\n",
       "</table>\n",
       "</div>"
      ],
      "text/plain": [
       "  user_id          created_at company_id language        activated_at   state  \\\n",
       "4     4.0 2013-01-01 14:39:05     5110.0   indian 2013-01-01 14:39:05  active   \n",
       "8     4.0 2013-01-01 14:39:05     5110.0   indian 2013-01-01 14:39:05  active   \n",
       "\n",
       "     act_date     cr_date         occurred_at  event_type event_name location  \\\n",
       "4  2013-01-01  2013-01-01 2014-05-13 09:31:47  engagement      login    India   \n",
       "8  2013-01-01  2013-01-01 2014-05-24 11:39:53  engagement      login    India   \n",
       "\n",
       "              device user_type  week_number device_type  \n",
       "4    lenovo thinkpad    User_3         20.0    computer  \n",
       "8  samsung galaxy s4    User_3         21.0       phone  "
      ]
     },
     "execution_count": 97,
     "metadata": {},
     "output_type": "execute_result"
    }
   ],
   "source": [
    "events_device.head(2)"
   ]
  },
  {
   "cell_type": "code",
   "execution_count": 98,
   "metadata": {},
   "outputs": [],
   "source": [
    "#Select user connected by certain device using a function\n",
    "def check_by_device(df, dev_type):\n",
    "    # Slice df\n",
    "    device_active = df[df['device_type'] == dev_type]\n",
    "    #Count how many events per week per user\n",
    "    events_per_week_per_user = device_active.groupby(['week_number', 'user_id']).count().reset_index()\n",
    "    # count again\n",
    "    active_user_per_week = events_per_week_per_user.groupby('week_number')['user_id'].count().reset_index()\n",
    "    # Plot\n",
    "    plt.plot(active_user_per_week['week_number'], active_user_per_week['user_id'])\n",
    "    plt.grid(True)\n",
    "    plt.show()"
   ]
  },
  {
   "cell_type": "code",
   "execution_count": 102,
   "metadata": {},
   "outputs": [
    {
     "data": {
      "text/html": [
       "<div>\n",
       "<style scoped>\n",
       "    .dataframe tbody tr th:only-of-type {\n",
       "        vertical-align: middle;\n",
       "    }\n",
       "\n",
       "    .dataframe tbody tr th {\n",
       "        vertical-align: top;\n",
       "    }\n",
       "\n",
       "    .dataframe thead th {\n",
       "        text-align: right;\n",
       "    }\n",
       "</style>\n",
       "<table border=\"1\" class=\"dataframe\">\n",
       "  <thead>\n",
       "    <tr style=\"text-align: right;\">\n",
       "      <th></th>\n",
       "      <th>week_number</th>\n",
       "      <th>user_id</th>\n",
       "      <th>created_at</th>\n",
       "      <th>company_id</th>\n",
       "      <th>language</th>\n",
       "      <th>activated_at</th>\n",
       "      <th>state</th>\n",
       "      <th>act_date</th>\n",
       "      <th>cr_date</th>\n",
       "      <th>occurred_at</th>\n",
       "      <th>event_type</th>\n",
       "      <th>event_name</th>\n",
       "      <th>location</th>\n",
       "      <th>device</th>\n",
       "      <th>user_type</th>\n",
       "      <th>device_type</th>\n",
       "    </tr>\n",
       "  </thead>\n",
       "  <tbody>\n",
       "    <tr>\n",
       "      <th>0</th>\n",
       "      <td>18.0</td>\n",
       "      <td>10033.0</td>\n",
       "      <td>3</td>\n",
       "      <td>3</td>\n",
       "      <td>3</td>\n",
       "      <td>3</td>\n",
       "      <td>3</td>\n",
       "      <td>3</td>\n",
       "      <td>3</td>\n",
       "      <td>3</td>\n",
       "      <td>3</td>\n",
       "      <td>3</td>\n",
       "      <td>3</td>\n",
       "      <td>3</td>\n",
       "      <td>3</td>\n",
       "      <td>3</td>\n",
       "    </tr>\n",
       "    <tr>\n",
       "      <th>1</th>\n",
       "      <td>18.0</td>\n",
       "      <td>10097.0</td>\n",
       "      <td>3</td>\n",
       "      <td>3</td>\n",
       "      <td>3</td>\n",
       "      <td>3</td>\n",
       "      <td>3</td>\n",
       "      <td>3</td>\n",
       "      <td>3</td>\n",
       "      <td>3</td>\n",
       "      <td>3</td>\n",
       "      <td>3</td>\n",
       "      <td>3</td>\n",
       "      <td>3</td>\n",
       "      <td>3</td>\n",
       "      <td>3</td>\n",
       "    </tr>\n",
       "  </tbody>\n",
       "</table>\n",
       "</div>"
      ],
      "text/plain": [
       "   week_number  user_id  created_at  company_id  language  activated_at  \\\n",
       "0         18.0  10033.0           3           3         3             3   \n",
       "1         18.0  10097.0           3           3         3             3   \n",
       "\n",
       "   state  act_date  cr_date  occurred_at  event_type  event_name  location  \\\n",
       "0      3         3        3            3           3           3         3   \n",
       "1      3         3        3            3           3           3         3   \n",
       "\n",
       "   device  user_type  device_type  \n",
       "0       3          3            3  \n",
       "1       3          3            3  "
      ]
     },
     "execution_count": 102,
     "metadata": {},
     "output_type": "execute_result"
    }
   ],
   "source": [
    "# Check values for users connecting by computer\n",
    "device_active = events_device[events_device['device_type'] == 'computer']\n",
    "events_per_week_per_user = device_active.groupby(['week_number', 'user_id']).count().reset_index()\n",
    "events_per_week_per_user. head(2)"
   ]
  },
  {
   "cell_type": "code",
   "execution_count": 103,
   "metadata": {},
   "outputs": [
    {
     "data": {
      "text/html": [
       "<div>\n",
       "<style scoped>\n",
       "    .dataframe tbody tr th:only-of-type {\n",
       "        vertical-align: middle;\n",
       "    }\n",
       "\n",
       "    .dataframe tbody tr th {\n",
       "        vertical-align: top;\n",
       "    }\n",
       "\n",
       "    .dataframe thead th {\n",
       "        text-align: right;\n",
       "    }\n",
       "</style>\n",
       "<table border=\"1\" class=\"dataframe\">\n",
       "  <thead>\n",
       "    <tr style=\"text-align: right;\">\n",
       "      <th></th>\n",
       "      <th>week_number</th>\n",
       "      <th>user_id</th>\n",
       "    </tr>\n",
       "  </thead>\n",
       "  <tbody>\n",
       "    <tr>\n",
       "      <th>0</th>\n",
       "      <td>18.0</td>\n",
       "      <td>415</td>\n",
       "    </tr>\n",
       "    <tr>\n",
       "      <th>1</th>\n",
       "      <td>19.0</td>\n",
       "      <td>712</td>\n",
       "    </tr>\n",
       "  </tbody>\n",
       "</table>\n",
       "</div>"
      ],
      "text/plain": [
       "   week_number  user_id\n",
       "0         18.0      415\n",
       "1         19.0      712"
      ]
     },
     "execution_count": 103,
     "metadata": {},
     "output_type": "execute_result"
    }
   ],
   "source": [
    "active_user_per_week = events_per_week_per_user.groupby('week_number')['user_id'].count().reset_index()\n",
    "active_user_per_week.head(2)"
   ]
  },
  {
   "cell_type": "code",
   "execution_count": 104,
   "metadata": {},
   "outputs": [
    {
     "data": {
      "text/plain": [
       "[<matplotlib.lines.Line2D at 0x27a36f40cc8>]"
      ]
     },
     "execution_count": 104,
     "metadata": {},
     "output_type": "execute_result"
    },
    {
     "data": {
      "image/png": "[encoded data removed]",
      "text/plain": [
       "<Figure size 432x288 with 1 Axes>"
      ]
     },
     "metadata": {
      "needs_background": "light"
     },
     "output_type": "display_data"
    }
   ],
   "source": [
    "plt.plot(active_user_per_week['week_number'], active_user_per_week['user_id'])"
   ]
  },
  {
   "cell_type": "code",
   "execution_count": 105,
   "metadata": {},
   "outputs": [
    {
     "data": {
      "image/png": "[encoded data removed]",
      "text/plain": [
       "<Figure size 432x288 with 1 Axes>"
      ]
     },
     "metadata": {
      "needs_background": "light"
     },
     "output_type": "display_data"
    }
   ],
   "source": [
    "check_by_device(events_device, 'computer')"
   ]
  },
  {
   "cell_type": "code",
   "execution_count": 106,
   "metadata": {},
   "outputs": [
    {
     "data": {
      "image/png": "[encoded data removed]",
      "text/plain": [
       "<Figure size 432x288 with 1 Axes>"
      ]
     },
     "metadata": {
      "needs_background": "light"
     },
     "output_type": "display_data"
    }
   ],
   "source": [
    "check_by_device(events_device, 'phone')"
   ]
  },
  {
   "cell_type": "code",
   "execution_count": 107,
   "metadata": {},
   "outputs": [
    {
     "data": {
      "image/png": "[encoded data removed]",
      "text/plain": [
       "<Figure size 432x288 with 1 Axes>"
      ]
     },
     "metadata": {
      "needs_background": "light"
     },
     "output_type": "display_data"
    }
   ],
   "source": [
    "check_by_device(events_device, 'tablet')"
   ]
  },
  {
   "cell_type": "code",
   "execution_count": null,
   "metadata": {},
   "outputs": [],
   "source": []
  },
  {
   "cell_type": "markdown",
   "metadata": {},
   "source": [
    "## Data prep"
   ]
  },
  {
   "cell_type": "markdown",
   "metadata": {},
   "source": [
    "##### Get dummies"
   ]
  },
  {
   "cell_type": "code",
   "execution_count": null,
   "metadata": {},
   "outputs": [],
   "source": [
    "# Replace state with integers\n",
    "#data['state_int'] = data['state'].replace({'active':'1', 'pending':'-1'})\n",
    "data = data.reset_index()\n",
    "data.head()"
   ]
  },
  {
   "cell_type": "code",
   "execution_count": null,
   "metadata": {},
   "outputs": [],
   "source": [
    "#get_dummies(data['language'])\n",
    "mycols = [\"state\", \"language\", \"event_type\", \"event_name\", \"location\", \"device\", \"user_type\"]\n",
    "dummies = pd.get_dummies(data[mycols])\n",
    "dummies.columns"
   ]
  },
  {
   "cell_type": "markdown",
   "metadata": {},
   "source": [
    "#### Define features & targets"
   ]
  },
  {
   "cell_type": "code",
   "execution_count": null,
   "metadata": {},
   "outputs": [],
   "source": [
    "y = dummies[\"state_active\"].values  #Target\n",
    "X = dummies.drop(labels = [\"state_active\", \"state_pending\"],axis = 1)  #Features"
   ]
  },
  {
   "cell_type": "markdown",
   "metadata": {},
   "source": [
    "#### Split dataset"
   ]
  },
  {
   "cell_type": "code",
   "execution_count": null,
   "metadata": {},
   "outputs": [],
   "source": [
    "# Create Train & Test Data\n",
    "from sklearn.model_selection import train_test_split\n",
    "X_train, X_test, y_train, y_test = train_test_split(X, y, test_size=0.2, random_state=101)"
   ]
  },
  {
   "cell_type": "code",
   "execution_count": null,
   "metadata": {},
   "outputs": [],
   "source": [
    "X_train.shape"
   ]
  },
  {
   "cell_type": "code",
   "execution_count": null,
   "metadata": {},
   "outputs": [],
   "source": [
    "y_train.shape"
   ]
  },
  {
   "cell_type": "markdown",
   "metadata": {},
   "source": [
    "## Log regression"
   ]
  },
  {
   "cell_type": "code",
   "execution_count": null,
   "metadata": {},
   "outputs": [],
   "source": [
    "# Import necessary model\n",
    "from sklearn.linear_model import LogisticRegression\n",
    "np.random.seed(0)   # setting random seed for reproducibility\n",
    "\n",
    "# Create instance of Logistic Regression object\n",
    "model = LogisticRegression(C=2, solver='liblinear')\n",
    "\n",
    "# Train logistic regression model\n",
    "result = model.fit(X_train, y_train)\n",
    "result"
   ]
  },
  {
   "cell_type": "code",
   "execution_count": null,
   "metadata": {},
   "outputs": [],
   "source": [
    "# Store predictions in new column in DataFrame\n",
    "dummies['predictions_logreg'] = model.predict(X)\n",
    "\n",
    "# Create confusion matrix\n",
    "conf_matrix = pd.crosstab(dummies['predictions_logreg'], dummies['state_active'])\n",
    "conf_matrix\n"
   ]
  },
  {
   "cell_type": "code",
   "execution_count": null,
   "metadata": {},
   "outputs": [],
   "source": [
    "# Calculate accuracy from confusion matrix\n",
    "accuracy = (conf_matrix.iloc[0, 0] + conf_matrix.iloc[1, 1]) / data.shape[0]\n",
    "\n",
    "print(f\"The model's accuracy was {(accuracy * 100):.4f}%\")"
   ]
  },
  {
   "cell_type": "code",
   "execution_count": null,
   "metadata": {},
   "outputs": [],
   "source": [
    "## Predict on test data & obtain accuracy\n",
    "\n",
    "from sklearn import metrics\n",
    "prediction_test = model.predict(X_test)\n",
    "# Print the prediction accuracy\n",
    "print (metrics.accuracy_score(y_test, prediction_test))"
   ]
  },
  {
   "cell_type": "markdown",
   "metadata": {},
   "source": [
    "## Question 1\n",
    "What's the cause of drop in user engagement or number of active users?"
   ]
  },
  {
   "cell_type": "code",
   "execution_count": null,
   "metadata": {},
   "outputs": [],
   "source": [
    "# To get the weights of all the variables\n",
    "weights = pd.Series(model.coef_[0],\n",
    " index=X.columns.values)\n",
    "weights.sort_values(ascending = False). head(20) ## Users with these values are very LIKELY to remain active "
   ]
  },
  {
   "cell_type": "code",
   "execution_count": null,
   "metadata": {},
   "outputs": [],
   "source": [
    "weights.sort_values(ascending = True).head(20) ## Users with these values are very UNLIKELY to remain active "
   ]
  },
  {
   "cell_type": "code",
   "execution_count": null,
   "metadata": {},
   "outputs": [],
   "source": [
    "drop_causes = weights.sort_values(ascending = True)\n",
    "drop_causes.sort_values(ascending = True).head(20) "
   ]
  },
  {
   "cell_type": "markdown",
   "metadata": {},
   "source": [
    "##### It seems that location, language, create_user & enter_email are causing drop in engagement. Especially, create_user seems to be causing the more problem. Fortunately, we have  email records, which should give us more hints about the sources of drop."
   ]
  },
  {
   "cell_type": "markdown",
   "metadata": {},
   "source": [
    "# Part 2: Analyze email events"
   ]
  },
  {
   "cell_type": "markdown",
   "metadata": {},
   "source": [
    "## Explore email events [in progress]"
   ]
  },
  {
   "cell_type": "code",
   "execution_count": 108,
   "metadata": {},
   "outputs": [
    {
     "data": {
      "text/html": [
       "<div>\n",
       "<style scoped>\n",
       "    .dataframe tbody tr th:only-of-type {\n",
       "        vertical-align: middle;\n",
       "    }\n",
       "\n",
       "    .dataframe tbody tr th {\n",
       "        vertical-align: top;\n",
       "    }\n",
       "\n",
       "    .dataframe thead th {\n",
       "        text-align: right;\n",
       "    }\n",
       "</style>\n",
       "<table border=\"1\" class=\"dataframe\">\n",
       "  <thead>\n",
       "    <tr style=\"text-align: right;\">\n",
       "      <th></th>\n",
       "      <th>user_id</th>\n",
       "      <th>user_type</th>\n",
       "    </tr>\n",
       "  </thead>\n",
       "  <tbody>\n",
       "    <tr>\n",
       "      <th>count</th>\n",
       "      <td>90389.000000</td>\n",
       "      <td>90389.000000</td>\n",
       "    </tr>\n",
       "    <tr>\n",
       "      <th>mean</th>\n",
       "      <td>8635.558187</td>\n",
       "      <td>2.097988</td>\n",
       "    </tr>\n",
       "    <tr>\n",
       "      <th>std</th>\n",
       "      <td>4957.734547</td>\n",
       "      <td>0.848892</td>\n",
       "    </tr>\n",
       "    <tr>\n",
       "      <th>min</th>\n",
       "      <td>0.000000</td>\n",
       "      <td>1.000000</td>\n",
       "    </tr>\n",
       "    <tr>\n",
       "      <th>25%</th>\n",
       "      <td>4426.000000</td>\n",
       "      <td>1.000000</td>\n",
       "    </tr>\n",
       "    <tr>\n",
       "      <th>50%</th>\n",
       "      <td>8631.000000</td>\n",
       "      <td>2.000000</td>\n",
       "    </tr>\n",
       "    <tr>\n",
       "      <th>75%</th>\n",
       "      <td>12670.000000</td>\n",
       "      <td>3.000000</td>\n",
       "    </tr>\n",
       "    <tr>\n",
       "      <th>max</th>\n",
       "      <td>19001.000000</td>\n",
       "      <td>3.000000</td>\n",
       "    </tr>\n",
       "  </tbody>\n",
       "</table>\n",
       "</div>"
      ],
      "text/plain": [
       "            user_id     user_type\n",
       "count  90389.000000  90389.000000\n",
       "mean    8635.558187      2.097988\n",
       "std     4957.734547      0.848892\n",
       "min        0.000000      1.000000\n",
       "25%     4426.000000      1.000000\n",
       "50%     8631.000000      2.000000\n",
       "75%    12670.000000      3.000000\n",
       "max    19001.000000      3.000000"
      ]
     },
     "execution_count": 108,
     "metadata": {},
     "output_type": "execute_result"
    }
   ],
   "source": [
    "emailEventsTable = 'https://raw.githubusercontent.com/Insight-DS-West/customerCliffDive/master/yammer_emails.csv?token=ABFZSCYQI2VAQEFG62PJRSC7WGRAC'\n",
    "emailEvents = pd.read_csv(emailEventsTable, error_bad_lines=False)\n",
    "emailEvents.describe()"
   ]
  },
  {
   "cell_type": "code",
   "execution_count": 110,
   "metadata": {},
   "outputs": [
    {
     "name": "stdout",
     "output_type": "stream",
     "text": [
      "<class 'pandas.core.frame.DataFrame'>\n",
      "RangeIndex: 90389 entries, 0 to 90388\n",
      "Data columns (total 4 columns):\n",
      " #   Column       Non-Null Count  Dtype  \n",
      "---  ------       --------------  -----  \n",
      " 0   user_id      90389 non-null  float64\n",
      " 1   occurred_at  90389 non-null  object \n",
      " 2   action       90389 non-null  object \n",
      " 3   user_type    90389 non-null  float64\n",
      "dtypes: float64(2), object(2)\n",
      "memory usage: 2.8+ MB\n"
     ]
    }
   ],
   "source": [
    "emailEvents.info()"
   ]
  },
  {
   "cell_type": "code",
   "execution_count": 112,
   "metadata": {},
   "outputs": [
    {
     "data": {
      "text/plain": [
       "array(['sent_weekly_digest', 'email_open', 'email_clickthrough',\n",
       "       'sent_reengagement_email'], dtype=object)"
      ]
     },
     "execution_count": 112,
     "metadata": {},
     "output_type": "execute_result"
    }
   ],
   "source": [
    "emailEvents['action'].unique()"
   ]
  },
  {
   "cell_type": "code",
   "execution_count": 113,
   "metadata": {},
   "outputs": [
    {
     "data": {
      "text/html": [
       "<div>\n",
       "<style scoped>\n",
       "    .dataframe tbody tr th:only-of-type {\n",
       "        vertical-align: middle;\n",
       "    }\n",
       "\n",
       "    .dataframe tbody tr th {\n",
       "        vertical-align: top;\n",
       "    }\n",
       "\n",
       "    .dataframe thead th {\n",
       "        text-align: right;\n",
       "    }\n",
       "</style>\n",
       "<table border=\"1\" class=\"dataframe\">\n",
       "  <thead>\n",
       "    <tr style=\"text-align: right;\">\n",
       "      <th></th>\n",
       "      <th>user_id</th>\n",
       "      <th>created_at</th>\n",
       "      <th>company_id</th>\n",
       "      <th>language</th>\n",
       "      <th>activated_at</th>\n",
       "      <th>state</th>\n",
       "      <th>act_date</th>\n",
       "      <th>cr_date</th>\n",
       "      <th>occurred_at</th>\n",
       "      <th>action</th>\n",
       "      <th>user_type</th>\n",
       "    </tr>\n",
       "  </thead>\n",
       "  <tbody>\n",
       "    <tr>\n",
       "      <th>0</th>\n",
       "      <td>0.0</td>\n",
       "      <td>2013-01-01 21:01:07</td>\n",
       "      <td>5737.0</td>\n",
       "      <td>english</td>\n",
       "      <td>2013-01-01 21:01:07</td>\n",
       "      <td>active</td>\n",
       "      <td>2013-01-01</td>\n",
       "      <td>2013-01-01</td>\n",
       "      <td>2014-05-06 09:30:00</td>\n",
       "      <td>sent_weekly_digest</td>\n",
       "      <td>1.0</td>\n",
       "    </tr>\n",
       "    <tr>\n",
       "      <th>1</th>\n",
       "      <td>0.0</td>\n",
       "      <td>2013-01-01 21:01:07</td>\n",
       "      <td>5737.0</td>\n",
       "      <td>english</td>\n",
       "      <td>2013-01-01 21:01:07</td>\n",
       "      <td>active</td>\n",
       "      <td>2013-01-01</td>\n",
       "      <td>2013-01-01</td>\n",
       "      <td>2014-05-13 09:30:00</td>\n",
       "      <td>sent_weekly_digest</td>\n",
       "      <td>1.0</td>\n",
       "    </tr>\n",
       "  </tbody>\n",
       "</table>\n",
       "</div>"
      ],
      "text/plain": [
       "   user_id          created_at  company_id language        activated_at  \\\n",
       "0      0.0 2013-01-01 21:01:07      5737.0  english 2013-01-01 21:01:07   \n",
       "1      0.0 2013-01-01 21:01:07      5737.0  english 2013-01-01 21:01:07   \n",
       "\n",
       "    state    act_date     cr_date          occurred_at              action  \\\n",
       "0  active  2013-01-01  2013-01-01  2014-05-06 09:30:00  sent_weekly_digest   \n",
       "1  active  2013-01-01  2013-01-01  2014-05-13 09:30:00  sent_weekly_digest   \n",
       "\n",
       "   user_type  \n",
       "0        1.0  \n",
       "1        1.0  "
      ]
     },
     "execution_count": 113,
     "metadata": {},
     "output_type": "execute_result"
    }
   ],
   "source": [
    "# Merge with df_user\n",
    "df_user_and_emails = users.merge(emailEvents, how='left', on='user_id')\n",
    "df_user_and_emails.head(2)"
   ]
  },
  {
   "cell_type": "code",
   "execution_count": 115,
   "metadata": {},
   "outputs": [],
   "source": [
    "#Add the week number into events table\n",
    "df_user_and_emails['occurred_at'] = pd.to_datetime(data['occurred_at'])\n",
    "df_user_and_emails['week_number'] = df_user_and_emails['occurred_at'].dt.week"
   ]
  },
  {
   "cell_type": "code",
   "execution_count": 116,
   "metadata": {},
   "outputs": [],
   "source": [
    "# define a new function to check according action...\n",
    "def check_by_email(df, action_type):\n",
    "    # Slice df\n",
    "    eng_by_action = df[df['action'] == action_type]\n",
    "    #Count how many events per week per user\n",
    "    events_per_week_per_user = eng_by_action.groupby(['week_number', 'user_id']).count().reset_index()\n",
    "    # count again\n",
    "    active_user_per_week = events_per_week_per_user.groupby('week_number')['user_id'].count().reset_index()\n",
    "    # Plot\n",
    "    plt.plot(active_user_per_week['week_number'], active_user_per_week['user_id'])\n",
    "    plt.grid(True)\n",
    "    plt.show()"
   ]
  },
  {
   "cell_type": "code",
   "execution_count": 117,
   "metadata": {},
   "outputs": [
    {
     "data": {
      "image/png": "[encoded data removed]",
      "text/plain": [
       "<Figure size 432x288 with 1 Axes>"
      ]
     },
     "metadata": {
      "needs_background": "light"
     },
     "output_type": "display_data"
    }
   ],
   "source": [
    "check_by_email(df_user_and_emails, 'email_clickthrough')"
   ]
  },
  {
   "cell_type": "code",
   "execution_count": 118,
   "metadata": {},
   "outputs": [
    {
     "data": {
      "image/png": "[encoded data removed]",
      "text/plain": [
       "<Figure size 432x288 with 1 Axes>"
      ]
     },
     "metadata": {
      "needs_background": "light"
     },
     "output_type": "display_data"
    }
   ],
   "source": [
    "check_by_email(df_user_and_emails, 'email_open')"
   ]
  },
  {
   "cell_type": "code",
   "execution_count": 119,
   "metadata": {},
   "outputs": [
    {
     "data": {
      "image/png": "[encoded data removed]",
      "text/plain": [
       "<Figure size 432x288 with 1 Axes>"
      ]
     },
     "metadata": {
      "needs_background": "light"
     },
     "output_type": "display_data"
    }
   ],
   "source": [
    "check_by_email(df_user_and_emails, 'sent_weekly_digest')"
   ]
  },
  {
   "cell_type": "code",
   "execution_count": 120,
   "metadata": {},
   "outputs": [
    {
     "data": {
      "image/png": "[encoded data removed]",
      "text/plain": [
       "<Figure size 432x288 with 1 Axes>"
      ]
     },
     "metadata": {
      "needs_background": "light"
     },
     "output_type": "display_data"
    }
   ],
   "source": [
    "check_by_email(df_user_and_emails, 'sent_reengagement_email')"
   ]
  },
  {
   "cell_type": "code",
   "execution_count": null,
   "metadata": {},
   "outputs": [],
   "source": []
  }
 ],
 "metadata": {
  "kernelspec": {
   "display_name": "Python 3",
   "language": "python",
   "name": "python3"
  },
  "language_info": {
   "codemirror_mode": {
    "name": "ipython",
    "version": 3
   },
   "file_extension": ".py",
   "mimetype": "text/x-python",
   "name": "python",
   "nbconvert_exporter": "python",
   "pygments_lexer": "ipython3",
   "version": "3.7.6"
  },
  "toc": {
   "base_numbering": 1,
   "nav_menu": {},
   "number_sections": true,
   "sideBar": true,
   "skip_h1_title": false,
   "title_cell": "Table of Contents",
   "title_sidebar": "Contents",
   "toc_cell": false,
   "toc_position": {},
   "toc_section_display": true,
   "toc_window_display": true
  }
 },
 "nbformat": 4,
 "nbformat_minor": 4
}
