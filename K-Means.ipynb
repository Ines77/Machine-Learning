{
 "cells": [
  {
   "cell_type": "markdown",
   "metadata": {},
   "source": [
    "# Kmeans Overview"
   ]
  },
  {
   "cell_type": "markdown",
   "metadata": {},
   "source": [
    "Clustering is a technique to divide data into different groups, where the records in\n",
    "each group are similar to one another. The goal of clustering is to identify significant\n",
    "and meaningful groups of data. The **groups can be used directly, analyzed in more\n",
    "depth, or passed as a feature or an outcome** to a predictive regression or classification\n",
    "model. Also, when a ground truth is not known, it is frequently used during the exploratory \n",
    "phase to surface data patterns. \n",
    "\n",
    "K-means is a *hard unsupervised partitioning algorithm* and the *first clustering method to be developed back in 1957 at Bell Labs*; it is still widely used, owing its popularity to the **relative simplicity** of the algorithm and its **ability to scale** to large data sets. The standard k-means algorithm **applies well to numerical data**. When **both numerical and categorical data** categorical features are encoded, however, for multiple categories this may lead to the \"curse of dimensionality\". Interaction encoding between a categorical and a continuous feature has been proposed as a better alternative. [Principal Component Analysis](https://realpython.com/k-means-clustering-python/) has also been used taking the principal component scores as input. K-mode has been applied in specific to categorical features. For more info check [this](https://www.kaggle.com/general/19741). On the other hand, as K-means more often uses Mikowsky distances (Manhattan-L1, Euclidean-L2, or Chevishev-Linf), **this requires the scaling or normalization of data** to avoid the dominance of certain features. \n",
    "While the exact solution to K-means is computationally very difficult (np-hard), heuristic algorithms (as the one described here) provide an efficient way to compute a locally optimal solution. \n",
    "K-means is a non-parametric method and, therefore, prompt to high variance. However, in large datasets the number of cluster elements may truncate due to the [\"hard\" membership restriction](https://www.researchgate.net/publication/287829457_On_the_bias_and_inconsistency_of_K-means_clustering) and this may cause underfitting.\n",
    "\n",
    "\n",
    "**Main ideas:**\n",
    "- A point is considered to be in a particular cluster if it is closer to that cluster's centroid than any other centroid.\n",
    "- K-means does not ensure the clusters will have the same size, although it assumes similar number of observations. \n",
    "- Finds the clusters that are the best separated.\n",
    "- Pros: High interpretability and scaling; relatively easy to implement, guaranteed convergence; adapts easily to new datasets.\n",
    "- Cons: The user has to specify k (the number of clusters) in the beginning; sensitive to initialization and to outliers, requires normalization o f features, can only handle numerical data.\n",
    "\n",
    "**General method:**\n",
    "K-means is implemented in two main steps: (1) Point assignment and (2) Centroid update. The algorithm starts with a user-specified number of clusters (K) and an initial set of cluster means, then, iterates through the main steps. The algorithm converges when the assignment of records to clusters does not change. In step 1 the points are assigned by minimizing their sum of squared distances (or other distance metric) to the nearest cluster mean or centroid. After this, in step 2, centroids are recalculated as the mean of all points belonging to the cluster. Various methods have been identified to make the initial partition with varying rates of performance since the method is sensitive to initial cluster assignments. The assignment phase is sometimes called the *expectation* phase while the update phase is sometimes called the *maximization* phase as the algorithm is considered a variant of the *expectation-maximization method* (another partitional clustering method). Since this algorithm isn’t guaranteed to find the best possible solution, it is recommended to run the it several times using different random samples to initialize it. When more than one set of iterations is used, the K-means result is given by the iteration that has the lowest within-cluster sum of squares. \n",
    "\n",
    "\n",
    "**Algorithm parameters:**\n",
    "    - Number of centroids(K)\n",
    "    - Distance metric\n",
    "    \n",
    "**Number of clusters or centroids (K):** The algorithm requires the initial provision of a certain number of clusters. Both the number and location of centroids can be initially determined by a visual exploration of the dataset. The \"elbow method\" or the \"scree-plot\" (based on SS) and the silhoutte method (based on cohesion measures) are widely used to identify the number of [centroids](https://towardsdatascience.com/10-tips-for-choosing-the-optimal-number-of-clusters-277e93d72d92).\n",
    "\n",
    "**Distance metric:** K-means generally uses Euclidean distance to estimate distance to the nearest cluster mean. Alternatively, Manhattan, Tchevichev, Mahalanobis, Pearson distances can be used. [This](https://journals.plos.org/plosone/article?id=10.1371/journal.pone.0144059#:~:text=Since%20in%20distance%2Dbased%20clustering,the%20performance%20of%20clustering%20algorithms.&text=These%20datasets%20are%20classified%20into,is%20studied%20against%20each%20category) article presents a comprehensive study of cluster distance.\n",
    "\n",
    "**Use cases:**\n",
    "\n",
    "In text analysis:\n",
    "- Document classification where features represent the frequency of terms\n",
    "- Fake news identification, here frequency of certain \"sensationalized\" terms is compared, as well as time and source location.\n",
    "\n",
    "In crime prevention:\n",
    "- Fraud detection where features may include number and value of transactions, location, etc. New events are isolated based on proximity to clusters that indicate fraudulent patterns.\n",
    "- Cyber-profiling where criminales may be assigned to a certain cluster based on their profile.\n",
    "- Fraudulent Tax-drivers where taxi drivers can be grouped by their GPS activity.\n",
    "\n",
    "In transportation:\n",
    "- Rideshare analysis where features as traffic, transit time, peak pickup localities may be used to label high demand locations.\n",
    "- Store delivery where, first, stores are clustered per order volume, products ordered, location, etc. and, then, a routing algorithm is used to assign delivery fleet.\n",
    "\n",
    "In IT:\n",
    "- Segment network traffic arriving to website as potentially being spam, both generated or other. Features may include traffic volume and sources.\n",
    "- Prioritization of IT alerts where technology components such as network, storage, or database can be grouped by their data volume, failure rates, severity scale and mean time to repair."
   ]
  },
  {
   "cell_type": "markdown",
   "metadata": {},
   "source": [
    "# Python implementation"
   ]
  },
  {
   "cell_type": "markdown",
   "metadata": {},
   "source": [
    "## K-means from sctrach\n",
    "Let's use the Iris dataset to demonstrate our code. This dataset is labeled, to implement k-means we will simply extract the features to predict labels for different flowers. At the end we will compare the results generated by the algorithm against the ground truth.    \n",
    "    https://realpython.com/k-means-clustering-python/"
   ]
  },
  {
   "cell_type": "code",
   "execution_count": 36,
   "metadata": {},
   "outputs": [
    {
     "data": {
      "text/html": [
       "<div>\n",
       "<style scoped>\n",
       "    .dataframe tbody tr th:only-of-type {\n",
       "        vertical-align: middle;\n",
       "    }\n",
       "\n",
       "    .dataframe tbody tr th {\n",
       "        vertical-align: top;\n",
       "    }\n",
       "\n",
       "    .dataframe thead th {\n",
       "        text-align: right;\n",
       "    }\n",
       "</style>\n",
       "<table border=\"1\" class=\"dataframe\">\n",
       "  <thead>\n",
       "    <tr style=\"text-align: right;\">\n",
       "      <th></th>\n",
       "      <th>sepal length (cm)</th>\n",
       "      <th>sepal width (cm)</th>\n",
       "      <th>petal length (cm)</th>\n",
       "      <th>petal width (cm)</th>\n",
       "      <th>target</th>\n",
       "    </tr>\n",
       "  </thead>\n",
       "  <tbody>\n",
       "    <tr>\n",
       "      <th>0</th>\n",
       "      <td>5.1</td>\n",
       "      <td>3.5</td>\n",
       "      <td>1.4</td>\n",
       "      <td>0.2</td>\n",
       "      <td>setosa</td>\n",
       "    </tr>\n",
       "    <tr>\n",
       "      <th>1</th>\n",
       "      <td>4.9</td>\n",
       "      <td>3.0</td>\n",
       "      <td>1.4</td>\n",
       "      <td>0.2</td>\n",
       "      <td>setosa</td>\n",
       "    </tr>\n",
       "    <tr>\n",
       "      <th>2</th>\n",
       "      <td>4.7</td>\n",
       "      <td>3.2</td>\n",
       "      <td>1.3</td>\n",
       "      <td>0.2</td>\n",
       "      <td>setosa</td>\n",
       "    </tr>\n",
       "    <tr>\n",
       "      <th>3</th>\n",
       "      <td>4.6</td>\n",
       "      <td>3.1</td>\n",
       "      <td>1.5</td>\n",
       "      <td>0.2</td>\n",
       "      <td>setosa</td>\n",
       "    </tr>\n",
       "    <tr>\n",
       "      <th>4</th>\n",
       "      <td>5.0</td>\n",
       "      <td>3.6</td>\n",
       "      <td>1.4</td>\n",
       "      <td>0.2</td>\n",
       "      <td>setosa</td>\n",
       "    </tr>\n",
       "  </tbody>\n",
       "</table>\n",
       "</div>"
      ],
      "text/plain": [
       "   sepal length (cm)  sepal width (cm)  petal length (cm)  petal width (cm)  \\\n",
       "0                5.1               3.5                1.4               0.2   \n",
       "1                4.9               3.0                1.4               0.2   \n",
       "2                4.7               3.2                1.3               0.2   \n",
       "3                4.6               3.1                1.5               0.2   \n",
       "4                5.0               3.6                1.4               0.2   \n",
       "\n",
       "   target  \n",
       "0  setosa  \n",
       "1  setosa  \n",
       "2  setosa  \n",
       "3  setosa  \n",
       "4  setosa  "
      ]
     },
     "execution_count": 36,
     "metadata": {},
     "output_type": "execute_result"
    }
   ],
   "source": [
    "import numpy as np\n",
    "from sklearn.datasets import load_iris\n",
    "import pandas as pd\n",
    "from sklearn import datasets\n",
    "import matplotlib.pyplot as plt\n",
    "%matplotlib inline\n",
    "\n",
    "#data = load_iris()\n",
    "iris = datasets.load_iris()\n",
    "\n",
    "# Create dataframe to store iris data\n",
    "iris_df = pd.DataFrame(data=iris.data, columns= iris.feature_names)\n",
    "iris_df['target'] = iris.target_names[iris.target]\n",
    "iris_df.head()"
   ]
  },
  {
   "cell_type": "code",
   "execution_count": 41,
   "metadata": {},
   "outputs": [
    {
     "data": {
      "text/plain": [
       "Index(['sepal length (cm)', 'sepal width (cm)', 'petal length (cm)',\n",
       "       'petal width (cm)', 'target'],\n",
       "      dtype='object')"
      ]
     },
     "execution_count": 41,
     "metadata": {},
     "output_type": "execute_result"
    }
   ],
   "source": [
    "iris_df.columns"
   ]
  },
  {
   "cell_type": "code",
   "execution_count": 38,
   "metadata": {},
   "outputs": [],
   "source": [
    "X = iris.data\n",
    "y = iris.target"
   ]
  },
  {
   "cell_type": "code",
   "execution_count": null,
   "metadata": {},
   "outputs": [],
   "source": [
    "from copy import deepcopy\n",
    "K=3 # number of clusters\n",
    "n= X.shape[0] # number of training data\n",
    "c= X.shape[1]  # number of features in the data\n",
    "\n",
    "# Generate random centers, here we use sigma and mean to ensure it represent the whole data\n",
    "mean = np.mean(X, axis = 0)\n",
    "std = np.std(X, axis = 0)\n",
    "centers = np.random.randn(K, c)*std +mean\n",
    "\n",
    "centers_new = np.zeros(centers.shape)\n",
    "centers_old = deepcopy(centers)\n",
    "\n",
    "clusters = np.zeros(n)\n",
    "distances = np.zeros((n, K))\n",
    "\n",
    "error = np.linalg.norm(centers_new - centers_old)\n",
    "\n",
    "# When, after an update, the estimate of that center stays the same, exit loop\n",
    "while error != 0:\n",
    "    for i in range(K):\n",
    "        distances[.,i] = np.linalgo.norm(X - centers_new[i], axis =1)\n",
    "    clusters = np.argmin(distances, axis = 1)\n",
    "    \n",
    "    centers_old = deepcopy(centers_new)\n",
    "    # Calculate mean for every cluster and update the center\n",
    "    for i in range(K):\n",
    "        centers_new[i] = np.mean(X[clusters == i], axis = 0)\n",
    "    error = np.linalg.norm(centers_new - centers_old)\n",
    "centers_new\n",
    "\n",
    "\n",
    "colors = ['Green', 'Orange', 'Blue']\n",
    "for i in range(n):\n",
    "    plt.scatter(X[i,0], X[i,1]), s=7, color = colors[int(y[i])]\n",
    "    \n",
    "plt.scatter(centers_new[:,0], centers_new[:,1]), s=150, marker = 'o', c = 'r']    \n"
   ]
  },
  {
   "cell_type": "markdown",
   "metadata": {},
   "source": [
    "## K-means in sklearn"
   ]
  },
  {
   "cell_type": "code",
   "execution_count": 5,
   "metadata": {},
   "outputs": [],
   "source": [
    "from sklearn.cluster import KMeans\n",
    "from sklearn.metrics import silhouette_score\n",
    "from sklearn.preprocessing import StandardScaler"
   ]
  },
  {
   "cell_type": "code",
   "execution_count": 6,
   "metadata": {},
   "outputs": [],
   "source": [
    "# Scale features\n",
    "scaler = StandardScaler()\n",
    "scaled_features = scaler.fit_transform(X)"
   ]
  },
  {
   "cell_type": "code",
   "execution_count": 17,
   "metadata": {},
   "outputs": [],
   "source": [
    "# Estimate best k value using the \"elbow-method\"\n",
    "kmeans_kwargs = {\n",
    "\"init\": \"random\",\n",
    "\"n_init\": 10,\n",
    "\"max_iter\": 300,\n",
    "\"random_state\": 42,\n",
    "}\n",
    "# A list holds the SSE values for each k\n",
    "sse = []\n",
    "for k in range(1, 11):\n",
    "    kmeans = KMeans(n_clusters=k, **kmeans_kwargs)\n",
    "    kmeans.fit(scaled_features)\n",
    "    sse.append(kmeans.inertia_)"
   ]
  },
  {
   "cell_type": "code",
   "execution_count": 18,
   "metadata": {},
   "outputs": [
    {
     "data": {
      "image/png": "[encoded data removed]",
      "text/plain": [
       "<Figure size 432x288 with 1 Axes>"
      ]
     },
     "metadata": {},
     "output_type": "display_data"
    }
   ],
   "source": [
    "plt.style.use(\"fivethirtyeight\")\n",
    "plt.plot(range(1, 11), sse)\n",
    "plt.xticks(range(1, 11))\n",
    "plt.xlabel(\"Number of Clusters\")\n",
    "plt.ylabel(\"SSE\")\n",
    "plt.show()"
   ]
  },
  {
   "cell_type": "markdown",
   "metadata": {},
   "source": [
    "According to this graph the variance is significantly reduced with three clusters, possibly 4. After this point, though, creating more clusters will not improve much distances within clusters."
   ]
  },
  {
   "cell_type": "code",
   "execution_count": 22,
   "metadata": {},
   "outputs": [],
   "source": [
    "# Let's, then, call model instance for 3 clusters\n",
    "from sklearn.cluster import KMeans\n",
    "\n",
    "kmeans = KMeans(\n",
    "    init=\"random\", # sets method for the initial assignment of points to centroids\n",
    "    n_clusters=3, # number of clusters (centroids) to form\n",
    "    n_init=10, # number of times the algo will be run using different centroids\n",
    "    max_iter=300,  # limits the number of iterations in each run\n",
    "    random_state=42  # ensures consistency in results across systems\n",
    ")\n",
    "\n",
    "# for other parameters check this: https://scikit-learn.org/stable/modules/generated/sklearn.cluster.KMeans.html"
   ]
  },
  {
   "cell_type": "code",
   "execution_count": 23,
   "metadata": {},
   "outputs": [
    {
     "data": {
      "text/plain": [
       "KMeans(algorithm='auto', copy_x=True, init='random', max_iter=300, n_clusters=3,\n",
       "       n_init=10, n_jobs=None, precompute_distances='auto', random_state=42,\n",
       "       tol=0.0001, verbose=0)"
      ]
     },
     "execution_count": 23,
     "metadata": {},
     "output_type": "execute_result"
    }
   ],
   "source": [
    "#Fit model\n",
    "kmeans.fit(scaled_features)"
   ]
  },
  {
   "cell_type": "code",
   "execution_count": 24,
   "metadata": {},
   "outputs": [
    {
     "data": {
      "text/plain": [
       "array([0, 0, 0, 0, 0, 0, 0, 0, 0, 0, 0, 0, 0, 0, 0, 0, 0, 0, 0, 0, 0, 0,\n",
       "       0, 0, 0, 0, 0, 0, 0, 0, 0, 0, 0, 0, 0, 0, 0, 0, 0, 0, 0, 0, 0, 0,\n",
       "       0, 0, 0, 0, 0, 0, 1, 1, 1, 2, 2, 2, 1, 2, 2, 2, 2, 2, 2, 2, 2, 1,\n",
       "       2, 2, 2, 2, 1, 2, 2, 2, 2, 1, 1, 1, 2, 2, 2, 2, 2, 2, 2, 1, 1, 2,\n",
       "       2, 2, 2, 2, 2, 2, 2, 2, 2, 2, 2, 2, 1, 2, 1, 1, 1, 1, 2, 1, 1, 1,\n",
       "       1, 1, 1, 2, 2, 1, 1, 1, 1, 2, 1, 2, 1, 2, 1, 1, 2, 1, 1, 1, 1, 1,\n",
       "       1, 2, 2, 1, 1, 1, 2, 1, 1, 1, 2, 1, 1, 1, 2, 1, 1, 2])"
      ]
     },
     "execution_count": 24,
     "metadata": {},
     "output_type": "execute_result"
    }
   ],
   "source": [
    "kmeans.labels_"
   ]
  },
  {
   "cell_type": "code",
   "execution_count": 44,
   "metadata": {},
   "outputs": [
    {
     "data": {
      "text/plain": [
       "<matplotlib.collections.PathCollection at 0x19d10f58b88>"
      ]
     },
     "execution_count": 44,
     "metadata": {},
     "output_type": "execute_result"
    },
    {
     "data": {
      "image/png": "[encoded data removed]",
      "text/plain": [
       "<Figure size 432x288 with 1 Axes>"
      ]
     },
     "metadata": {
      "needs_background": "light"
     },
     "output_type": "display_data"
    }
   ],
   "source": [
    "plt.scatter(iris_df['petal length (cm)'], iris_df['petal width (cm)'], s=50, alpha=0.5, c= kmeans.labels_.astype(float))"
   ]
  }
 ],
 "metadata": {
  "kernelspec": {
   "display_name": "Python 3",
   "language": "python",
   "name": "python3"
  },
  "language_info": {
   "codemirror_mode": {
    "name": "ipython",
    "version": 3
   },
   "file_extension": ".py",
   "mimetype": "text/x-python",
   "name": "python",
   "nbconvert_exporter": "python",
   "pygments_lexer": "ipython3",
   "version": "3.7.6"
  },
  "toc": {
   "base_numbering": 1,
   "nav_menu": {},
   "number_sections": true,
   "sideBar": true,
   "skip_h1_title": false,
   "title_cell": "Table of Contents",
   "title_sidebar": "Contents",
   "toc_cell": false,
   "toc_position": {},
   "toc_section_display": true,
   "toc_window_display": false
  }
 },
 "nbformat": 4,
 "nbformat_minor": 4
}
