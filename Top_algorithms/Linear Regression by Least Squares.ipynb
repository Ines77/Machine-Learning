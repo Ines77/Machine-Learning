{
 "cells": [
  {
   "cell_type": "markdown",
   "metadata": {},
   "source": [
    "# Linear Regression"
   ]
  },
  {
   "cell_type": "code",
   "execution_count": 1,
   "metadata": {},
   "outputs": [],
   "source": [
    "import pandas as pd\n",
    "import numpy as np\n",
    "import matplotlib.pyplot as plt\n",
    "%matplotlib inline"
   ]
  },
  {
   "cell_type": "code",
   "execution_count": 2,
   "metadata": {},
   "outputs": [],
   "source": [
    "#Generate random data\n",
    "np.random.seed(0)\n",
    "X = 2.5*np.random.randn(100) + 1.5\n",
    "y_pred = 2 + 0.3*X\n",
    "res =0.5* np.random.randn(100)\n",
    "y_act = 2 + 0.3*X + res"
   ]
  },
  {
   "cell_type": "code",
   "execution_count": 3,
   "metadata": {},
   "outputs": [
    {
     "data": {
      "text/html": [
       "<div>\n",
       "<style scoped>\n",
       "    .dataframe tbody tr th:only-of-type {\n",
       "        vertical-align: middle;\n",
       "    }\n",
       "\n",
       "    .dataframe tbody tr th {\n",
       "        vertical-align: top;\n",
       "    }\n",
       "\n",
       "    .dataframe thead th {\n",
       "        text-align: right;\n",
       "    }\n",
       "</style>\n",
       "<table border=\"1\" class=\"dataframe\">\n",
       "  <thead>\n",
       "    <tr style=\"text-align: right;\">\n",
       "      <th></th>\n",
       "      <th>X</th>\n",
       "      <th>y_act</th>\n",
       "      <th>y_pred</th>\n",
       "    </tr>\n",
       "  </thead>\n",
       "  <tbody>\n",
       "    <tr>\n",
       "      <th>0</th>\n",
       "      <td>5.910131</td>\n",
       "      <td>4.714615</td>\n",
       "      <td>3.773039</td>\n",
       "    </tr>\n",
       "    <tr>\n",
       "      <th>1</th>\n",
       "      <td>2.500393</td>\n",
       "      <td>2.076238</td>\n",
       "      <td>2.750118</td>\n",
       "    </tr>\n",
       "    <tr>\n",
       "      <th>2</th>\n",
       "      <td>3.946845</td>\n",
       "      <td>2.548811</td>\n",
       "      <td>3.184053</td>\n",
       "    </tr>\n",
       "    <tr>\n",
       "      <th>3</th>\n",
       "      <td>7.102233</td>\n",
       "      <td>4.615368</td>\n",
       "      <td>4.130670</td>\n",
       "    </tr>\n",
       "    <tr>\n",
       "      <th>4</th>\n",
       "      <td>6.168895</td>\n",
       "      <td>3.264107</td>\n",
       "      <td>3.850668</td>\n",
       "    </tr>\n",
       "  </tbody>\n",
       "</table>\n",
       "</div>"
      ],
      "text/plain": [
       "          X     y_act    y_pred\n",
       "0  5.910131  4.714615  3.773039\n",
       "1  2.500393  2.076238  2.750118\n",
       "2  3.946845  2.548811  3.184053\n",
       "3  7.102233  4.615368  4.130670\n",
       "4  6.168895  3.264107  3.850668"
      ]
     },
     "execution_count": 3,
     "metadata": {},
     "output_type": "execute_result"
    }
   ],
   "source": [
    "# Store X, y_pred and y_act in data frame\n",
    "df = pd.DataFrame({'X':X,  'y_act':y_act, 'y_pred': y_pred})\n",
    "df.head()"
   ]
  },
  {
   "cell_type": "code",
   "execution_count": 4,
   "metadata": {},
   "outputs": [
    {
     "data": {
      "text/plain": [
       "<function matplotlib.pyplot.show(*args, **kw)>"
      ]
     },
     "execution_count": 4,
     "metadata": {},
     "output_type": "execute_result"
    },
    {
     "data": {
      "image/png": "[encoded data removed]",
      "text/plain": [
       "<Figure size 864x432 with 1 Axes>"
      ]
     },
     "metadata": {
      "needs_background": "light"
     },
     "output_type": "display_data"
    }
   ],
   "source": [
    "# Plot predicted and actual values againts input variables\n",
    "plt.figure(figsize = (12,6))\n",
    "plt.plot(X, y_pred, 'g')\n",
    "plt.plot(X, y_act, 'ro')\n",
    "plt.title('Actual vs Predicted values')\n",
    "plt.show"
   ]
  },
  {
   "cell_type": "markdown",
   "metadata": {},
   "source": [
    "# Model efficacy"
   ]
  },
  {
   "cell_type": "markdown",
   "metadata": {},
   "source": [
    "There are two main methods used to evaluate quantitative response values:\n",
    "\n",
    "**Total variability** can be explained with the Total Sum of Squares (SST), which is composed of two terms: the Regression Sum of Squares (SSR) and the Difference Sum of Squares (SSD).  In other words, *the total variability of the data is equal to the variability explained by the regression line plus the unexplained variability, known as error.* So:\n",
    "                              SST = SSR + SSD\n",
    "                              \n",
    "*SSR* (also known as explained sum of squares) is simply the sum of squared differences between the predicted value or regression line (y_pred) and the mean of the dependent variable (y_act). Think of it as a measure that describes how well a regression line fits the data or as the difference of the regression line versus the baseline (mean) model.\n",
    "*SSD* (also known as residual sum of squares, sum of squares error or unexplained sun of squares) is the sum of the squared differences differences between the observed values (y_act) and the predicted values (y_pred).\n",
    "\n",
    "**R-squared** or coefficient of determination is given by the ratio of the regression sum of squares to total sum of squares:\n",
    "                           *R<sup>2</sup>* = SSR/SST = 1 - SSD/SST\n",
    "                           \n",
    "*SST* is obtained as the sum of squared differences between the observed values for the dependant variable (y_act) and its mean response value. Think of this as a measure of total variability or as the dispersion of the observed values around the mean – much like the variance in descriptive statistics. Values closer to 1 represent a better model. Also, bear in mind that *R<sup>2</sup>* will always favor the most complex model since its value always increases as parameters are added to the model. "
   ]
  },
  {
   "cell_type": "markdown",
   "metadata": {},
   "source": [
    "**Visual explanation** ![](https://vitalflux.com/wp-content/uploads/2017/11/linear-regression.png)"
   ]
  },
  {
   "cell_type": "code",
   "execution_count": 6,
   "metadata": {},
   "outputs": [
    {
     "name": "stdout",
     "output_type": "stream",
     "text": [
      "Mean of Y = 2.5358624970247825\n"
     ]
    }
   ],
   "source": [
    "# Calculate the mean of Y\n",
    "y_mean = np.mean(y_act)\n",
    "print(f'Mean of Y = {y_mean}')"
   ]
  },
  {
   "cell_type": "code",
   "execution_count": 7,
   "metadata": {},
   "outputs": [
    {
     "name": "stdout",
     "output_type": "stream",
     "text": [
      "R-sq = 0.6185994959777246\n"
     ]
    }
   ],
   "source": [
    "# Calculate SSR and SST\n",
    "df['SSR'] = (df['y_pred'] - y_mean)**2\n",
    "df['SSD'] = (df['y_pred'] - df['y_act'])**2\n",
    "df['SST'] = (df['y_act'] - y_mean)**2\n",
    "SSR = df['SSR'].sum()\n",
    "SSD = df['SSD'].sum()\n",
    "SST = df['SST'].sum()\n",
    "\n",
    "# Obtain R-squared\n",
    "R2 = SSR/SST\n",
    "\n",
    "print(f'R-sq = {R2}')"
   ]
  },
  {
   "cell_type": "markdown",
   "metadata": {},
   "source": [
    "Here R-square can be interpreted as follows: *\"about 62% of variation in the response variable is explained by the model\".* In this case the model includes a single feature or variable (X)."
   ]
  },
  {
   "cell_type": "code",
   "execution_count": 8,
   "metadata": {},
   "outputs": [
    {
     "name": "stdout",
     "output_type": "stream",
     "text": [
      "SST = 84.23994858909019\n"
     ]
    }
   ],
   "source": [
    "# Obtain total variability\n",
    "SST = SSR  +  SSD\n",
    "print(f'SST = {SST}')"
   ]
  },
  {
   "cell_type": "code",
   "execution_count": 9,
   "metadata": {},
   "outputs": [
    {
     "data": {
      "text/plain": [
       "84.23994858909019"
      ]
     },
     "execution_count": 9,
     "metadata": {},
     "output_type": "execute_result"
    }
   ],
   "source": [
    "SST"
   ]
  },
  {
   "cell_type": "markdown",
   "metadata": {},
   "source": [
    "## Assumptions of linear regression models"
   ]
  },
  {
   "cell_type": "markdown",
   "metadata": {},
   "source": [
    "About errors:\n",
    "   - Normality - Error values follow a normal distribution with mean 0 and standard deviation of 1.\n",
    "   - Independence - Error values are statistically independent.\n",
    "   - Homescedasticity - The probability distribution of the errors follow a constant variance\n",
    "    "
   ]
  },
  {
   "cell_type": "markdown",
   "metadata": {},
   "source": [
    "# Least squares\n",
    "Here are the formulas for ɑ and β again:\n",
    "\n",
    "![](https://latex.codecogs.com/gif.latex?%5Cbegin%7Balign*%7D%20%26%20%5Cbeta%20%3D%20%5Cfrac%7B%5Csum%5Climits_%7Bi%3D1%7D%5E%7Bn%7D%28X_i%20-%20%5Cbar%20X%29%28Y_i%20-%20%5Cbar%20Y%29%7D%7B%5Csum%5Climits_%7Bi%3D1%7D%5E%7Bn%7D%28X_i%20-%20%5Cbar%20X%29%5E2%7D%20%5C%5C%20%26%20%5Calpha%20%3D%20%5Cbar%20Y%20-%20%5Cbeta*%20%5Cbar%20X%20%5Cend%7Balign*%7D)\n",
    "\n",
    "In statistical terms, the numerator in β corresponds to the covariance of X and y, while the denominator corresponds to the variance of X."
   ]
  },
  {
   "cell_type": "code",
   "execution_count": 10,
   "metadata": {},
   "outputs": [
    {
     "name": "stdout",
     "output_type": "stream",
     "text": [
      "alpha = 2.0031670124623426\n",
      "beta = 0.3229396867092763\n"
     ]
    }
   ],
   "source": [
    "#Calculate the mean of X and Y\n",
    "x_mean = np.mean(X)\n",
    "y_mean = np.mean(y_act)\n",
    "\n",
    "# Calculate covariance of X and y, and variance of X\n",
    "df['xy_cov'] = (df['X'] - x_mean) * (df['y_act'] - y_mean)\n",
    "df['x_var'] = (df['X'] - x_mean)**2\n",
    "\n",
    "#Estimate beta and alpha\n",
    "beta = df['xy_cov'].sum()/df['x_var'].sum()\n",
    "alpha = y_mean - (beta*x_mean)\n",
    "\n",
    "print(f'alpha = {alpha}\\nbeta = {beta}')"
   ]
  },
  {
   "cell_type": "code",
   "execution_count": 11,
   "metadata": {},
   "outputs": [],
   "source": [
    "# Obtain predicted values using LS\n",
    "df['y_pred_ls'] = alpha + beta*df['X']"
   ]
  },
  {
   "cell_type": "code",
   "execution_count": 12,
   "metadata": {},
   "outputs": [
    {
     "name": "stdout",
     "output_type": "stream",
     "text": [
      "R2 = 0.7147163547202341\n"
     ]
    }
   ],
   "source": [
    "# Obtain R\n",
    "df['SSR'] = (df['y_pred_ls'] - y_mean)**2\n",
    "df['SST'] = (df['y_act'] - y_mean)**2\n",
    "SSR = df['SSR'].sum()\n",
    "SST = df['SST'].sum()\n",
    "R2 = SSR/SST\n",
    "print(f'R2 = {R2}')"
   ]
  },
  {
   "cell_type": "code",
   "execution_count": 13,
   "metadata": {},
   "outputs": [
    {
     "data": {
      "image/png": "[encoded data removed]",
      "text/plain": [
       "<Figure size 864x432 with 1 Axes>"
      ]
     },
     "metadata": {
      "needs_background": "light"
     },
     "output_type": "display_data"
    }
   ],
   "source": [
    "# Plot predicted LS values vs actual response values\n",
    "plt.figure(figsize = (12, 6))\n",
    "plt.plot(X, y_pred, 'g')\n",
    "plt.plot(X, df['y_pred_ls'], 'y')\n",
    "plt.plot(X, y_act, 'ro')\n",
    "\n",
    "plt.title(\"Actual vs predicted values by two methods\")\n",
    "plt.show()"
   ]
  },
  {
   "cell_type": "markdown",
   "metadata": {},
   "source": [
    "As we can see, the y_pred_ls and y_pred are more or less overlapping since the respective values of ɑ and β are not very different."
   ]
  },
  {
   "cell_type": "markdown",
   "metadata": {},
   "source": [
    "# Model Efficacy 2"
   ]
  },
  {
   "cell_type": "markdown",
   "metadata": {},
   "source": [
    "**RSE (Residual Standard Errors):** Estimate of the standard deviation of the error term. So,\n",
    "\n",
    "![](https://latex.codecogs.com/gif.latex?RSE%20%3D%20%5Csqrt%7B%5Cfrac%7B1%7D%7Bn-2%7D*%5Ctext%7BSSD%7D%7D)\n",
    "\n",
    "where *n* is the number of records in the dataset.\n",
    "\n",
    "In general,\n",
    "\n",
    "![](https://latex.codecogs.com/gif.latex?RSE%20%3D%20%5Csqrt%7B%5Cfrac%7B1%7D%7Bn-p-1%7D*%5Ctext%7BSSD%7D%7D)\n",
    "\n",
    "where p is the number of predictor variables in the model.\n",
    "In multiple regression, the value of RSE generally decreases as we add variables that are more significant predictors of the output variable."
   ]
  },
  {
   "cell_type": "code",
   "execution_count": 14,
   "metadata": {},
   "outputs": [
    {
     "name": "stdout",
     "output_type": "stream",
     "text": [
      "RSE = 0.5193136792898965\n"
     ]
    }
   ],
   "source": [
    "df['SSD'] = (df['y_pred_ls'] - df['y_act'])**2\n",
    "SSD = df['SSD'].sum()\n",
    "RSE = np.sqrt(SSD/98)  #n=100\n",
    "print(f'RSE = {RSE}')"
   ]
  },
  {
   "cell_type": "code",
   "execution_count": 15,
   "metadata": {},
   "outputs": [
    {
     "data": {
      "text/plain": [
       "26.42929635476573"
      ]
     },
     "execution_count": 15,
     "metadata": {},
     "output_type": "execute_result"
    }
   ],
   "source": [
    "SSD"
   ]
  },
  {
   "cell_type": "markdown",
   "metadata": {},
   "source": [
    "By comparing the standard deviation of the error term to the mean of the actual values, we obtain the percentage difference of the ls model versus the baseline model:"
   ]
  },
  {
   "cell_type": "code",
   "execution_count": 16,
   "metadata": {},
   "outputs": [
    {
     "data": {
      "text/plain": [
       "0.20478779109639608"
      ]
     },
     "execution_count": 16,
     "metadata": {},
     "output_type": "execute_result"
    }
   ],
   "source": [
    "error = RSE/y_mean\n",
    "error"
   ]
  },
  {
   "cell_type": "markdown",
   "metadata": {},
   "source": [
    "The benchmark to compare this to is the mean of the actual values, yact. As shown previously, this value is ymean = 2.54. In plain English, this means we observe an error of 0.46 over 2.54 – approximately 20.48%."
   ]
  },
  {
   "cell_type": "markdown",
   "metadata": {},
   "source": [
    "**p-values**\n",
    "p-values are used along hypothesis tests as a mean to determine if the coefficient values are significant. The null hypothesis assumes no significance, or a β value of zero. If a p-value is less than a chosen significance level (e.g. 0.05) then the null hypothesis that β = 0 is rejected and β is taken to be significant and non-zero (the alternative hypothesis is accepted).\n",
    "\n",
    "The p-value represents a probability compared against a significance level associated with a critical value, or a cut-off value represented by the number of standard deviations beyond of which the null hypothesis can be rejected as there is a high chance that non-zero β values occur. "
   ]
  },
  {
   "cell_type": "markdown",
   "metadata": {},
   "source": [
    "**F-statistics**\n",
    "\n",
    "In a multiple regression model, apart from testing the significance of individual variables by checking the p-values, it is also necessary to check whether, as a group all the predictors are significant. This can be done using the following hypothesis:\n",
    "\n",
    "![](https://latex.codecogs.com/gif.latex?%5Cbegin%7Balign*%7D%20%26%5Ctext%7BNull%20hypothesis%20%7D%20H_0%3A%20%5Cbeta_1%20%3D%20%5Cbeta_2%20%3D%20%5Cdots%20%3D%20%5Cbeta_p%20%3D%200%20%5C%5C%20%26%5Ctext%7BAlternative%20hypothesis%20%7DH_1%3A%20%5Ctext%7B%20Any%20%7D%20%5Cbeta_i%20%3C%3E%200%20%5Cend%7Balign*%7D)\n",
    "\n",
    "The statistic that is used to test this hypothesis is called the **F-statistic** and is defined as follows:\n",
    "\n",
    "![](https://latex.codecogs.com/gif.latex?%5Ctext%7BF-statistic%7D%3D%20%5Cfrac%7B%28%5Ctext%7BSST%7D%20-%20%5Ctext%7BSSD%7D%29/p%7D%7B%5Ctext%7BSSD%7D/%28n-p-1%29%7D)\n",
    "\n",
    "where n = number of rows in the dataset and p = number of predictor variables in the model.\n",
    "\n",
    "There is a p-value that is associated with this F-statistic. If the p-value is smaller than the chosen significance level, the null hypothesis can be rejected.\n",
    "\n",
    "It is important to look at the F-statistic because:\n",
    "\n",
    "- p-values are about individual relationships between predictors and the outcome variable. However, one predictor's relationship with the output might be impacted by the presence of other variables.\n",
    "- When the number of predictors in the model is very large and all the $\\beta_i$ are very close to zero, the individual p-values associated with the predictors might give very small values so we might incorrectly conclude that there is a relationship between the predictors and the outcome."
   ]
  }
 ],
 "metadata": {
  "kernelspec": {
   "display_name": "Python 3",
   "language": "python",
   "name": "python3"
  },
  "language_info": {
   "codemirror_mode": {
    "name": "ipython",
    "version": 3
   },
   "file_extension": ".py",
   "mimetype": "text/x-python",
   "name": "python",
   "nbconvert_exporter": "python",
   "pygments_lexer": "ipython3",
   "version": "3.7.6"
  },
  "toc": {
   "base_numbering": 1,
   "nav_menu": {},
   "number_sections": true,
   "sideBar": true,
   "skip_h1_title": false,
   "title_cell": "Table of Contents",
   "title_sidebar": "Contents",
   "toc_cell": false,
   "toc_position": {},
   "toc_section_display": true,
   "toc_window_display": false
  }
 },
 "nbformat": 4,
 "nbformat_minor": 4
}
